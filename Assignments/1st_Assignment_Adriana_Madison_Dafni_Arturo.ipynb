{
 "cells": [
  {
   "cell_type": "markdown",
   "id": "indoor-catalyst",
   "metadata": {
    "tags": []
   },
   "source": [
    "<h1 style=\"color:blue\"> Bayesian Statistics and Probabilistic Programming</h1>\n",
    "\n",
    "<h1 style=\"color:blue\"> Spring 2024 - Homework 01</h1>\n",
    "\n",
    "<h3 style=\"color:blue\">2024-03-25</h3>"
   ]
  },
  {
   "cell_type": "markdown",
   "id": "floppy-carbon",
   "metadata": {},
   "source": [
    "<h1 style=\"color:blue\">Contributors</h1>"
   ]
  },
  {
   "cell_type": "markdown",
   "id": "f55622e7",
   "metadata": {},
   "source": [
    "### Adriana Alvaro Email:\n",
    "### Madison Chester Email:\n",
    "### Dafni Tziakouri Email: dtziaktz7@alumnes.ub.edu\n",
    "### Arturo Fredes Email:"
   ]
  },
  {
   "cell_type": "markdown",
   "id": "b51a75a2",
   "metadata": {},
   "source": [
    "<h1 style=\"color:blue\">Exercises</h1>"
   ]
  },
  {
   "cell_type": "markdown",
   "id": "41a31419",
   "metadata": {},
   "source": [
    "## Exercise 1: Placenta previa"
   ]
  },
  {
   "cell_type": "markdown",
   "id": "5dc76861",
   "metadata": {},
   "source": [
    "This exercise pertains to what we studied in `Binomial.3.Placenta.previa.pub.ipynb`.\n",
    "\n",
    "1. Compute the posterior pdf, and both prior and posterior predictor pmf for the placenta previa problem, using a conjugate $\\textrm{Beta}(\\alpha,\\beta)$ prior, for several values of the parameters, obtaining for each of them a 95% (centered) credible interval and the MAP and posterior expectation estimators of $\\theta$. In particular, reproduce Figure 2.3 and Table 2.1 in BDA3 [1]. Do the same for those $\\alpha_0$ and $\\beta_0$ such that $\\textrm{Beta}(\\alpha_0,\\beta_0)$ has the same expectation and variance than the piecewise linear nonconjugate prior. Compare the posterior quantities with both priors. \n",
    "\n",
    "2. Simulate the prior predictive pmf with the nonconjugate piecewise linear pdf. Do it in both possible ways: (1) Sample from $h$ by the inverse transformation method and (2) Sample from its discretization. Summarize the resulting simulated sample: plot the empirical pmf, compute median, mode, expectation, standard deviation. Compare the results with those obtained from the conjugate prior $\\textrm{Beta}(\\alpha_0,\\beta_0)$. \n",
    "\n",
    "3. Simulate the posterior predictive pmf (given the observed data of 437 female births from 980 placenta previa births) with the nonconjugate piecewise linear pdf. Sample from the the discretization of the posterior pdf as in Exercise 1. Summarize the resulting simulated sample: plot the empirical pmf, compute median, mode, expectation, standard deviation. Compare the results with those obtained from the conjugate prior $\\textrm{Beta}(\\alpha_0,\\beta_0)$.\n",
    "\n",
    "[1] _Bayesian Data Analysis - Third edition_ **(BDA3),** pag. 37."
   ]
  },
  {
   "cell_type": "markdown",
   "id": "b178625c",
   "metadata": {},
   "source": [
    "### Exercise 1.1"
   ]
  },
  {
   "cell_type": "markdown",
   "id": "12521138",
   "metadata": {},
   "source": [
    "Since we're dealing with a Bernoulli trial (success or failure), the likelihood function is given by the binomial probability mass function:\n",
    "$$\n",
    "    f(x|\\theta)=\\theta^{x}\\cdot(1-\\theta)^{(n-x)}\n",
    "$$\n",
    "\n",
    "Where,\n",
    "- x is the number of successes (placenta previa cases),\n",
    "\n",
    "- n is the total number of trials (total pregnancies),\n",
    "\n",
    "- θ is the probability of success (the parameter we want to estimate).\n"
   ]
  },
  {
   "cell_type": "markdown",
   "id": "f526d2c6",
   "metadata": {},
   "source": [
    "We'll use a Beta distribution as the prior, which is conjugate to the binomial likelihood function. The Beta distribution has two shape parameters, α and β:\n",
    "$$\n",
    "\\text{Prior}(\\theta \\mid \\alpha, \\beta) = \\frac{\\theta^{\\alpha - 1} \\cdot (1 - \\theta)^{\\beta - 1}}{B(\\alpha, \\beta)}\n",
    "$$\n",
    "\n",
    "Where,\n",
    "- B(α,β) is the Beta function, serving as the normalizing constant.\n"
   ]
  },
  {
   "cell_type": "markdown",
   "id": "e5be1141",
   "metadata": {},
   "source": [
    "Using Bayes' theorem, we can compute the posterior distribution, which is also a Beta distribution with updated parameters.\n",
    "$$\n",
    "\\text{Posterior}(\\theta \\mid x, n, \\alpha, \\beta) \\propto \\text{Lik}(\\theta \\mid x, n) \\times \\text{Prior}(\\theta \\mid \\alpha, \\beta)\n",
    "$$\n",
    "\n",
    "$$\n",
    "\\text{Posterior}(\\theta \\mid x, n, \\alpha, \\beta) = \\frac{\\theta^{\\alpha+x-1} \\cdot (1-\\theta)^{\\beta+n-x-1}}{B(\\alpha+x, \\beta+n-x)}\n",
    "$$\n"
   ]
  },
  {
   "cell_type": "code",
   "execution_count": 34,
   "id": "15080629",
   "metadata": {
    "vscode": {
     "languageId": "r"
    }
   },
   "outputs": [],
   "source": [
    "# Function to compute the posterior statistics\n",
    "compute_posterior_stats <- function(alpha, beta, x, n) {\n",
    "  # Prior parameters\n",
    "  prior_alpha <- alpha\n",
    "  prior_beta <- beta\n",
    "  \n",
    "  # Likelihood parameters\n",
    "  likelihood_alpha <- x + 1\n",
    "  likelihood_beta <- n - x + 1\n",
    "  \n",
    "  # Posterior parameters\n",
    "  posterior_alpha <- prior_alpha + x\n",
    "  posterior_beta <- prior_beta + n - x\n",
    "  \n",
    "  # Compute posterior mean\n",
    "  posterior_mean <- posterior_alpha / (posterior_alpha + posterior_beta)\n",
    "  \n",
    "  # Compute posterior mode (MAP)\n",
    "  posterior_mode <- (posterior_alpha - 1) / (posterior_alpha + posterior_beta - 2)\n",
    "  \n",
    "  # Compute 95% credible interval\n",
    "  posterior_credible_interval <- qbeta(c(0.025, 0.975), shape1 = posterior_alpha, shape2 = posterior_beta)\n",
    "  \n",
    "  return(list(mean = posterior_mean, mode = posterior_mode, credible_interval = posterior_credible_interval))\n",
    "}"
   ]
  },
  {
   "cell_type": "code",
   "execution_count": 36,
   "id": "5ad4039a",
   "metadata": {
    "vscode": {
     "languageId": "r"
    }
   },
   "outputs": [
    {
     "name": "stdout",
     "output_type": "stream",
     "text": [
      ", , Lower\n",
      "\n",
      "           Beta=0.5    Beta=1    Beta=2\n",
      "Alpha=0.5 0.4149953 0.4147779 0.4143439\n",
      "Alpha=1   0.4152829 0.4150655 0.4146314\n",
      "Alpha=2   0.4158573 0.4156398 0.4152056\n",
      "\n",
      ", , Upper\n",
      "\n",
      "           Beta=0.5    Beta=1    Beta=2\n",
      "Alpha=0.5 0.4771604 0.4769241 0.4764523\n",
      "Alpha=1   0.4774360 0.4771998 0.4767279\n",
      "Alpha=2   0.4779865 0.4777502 0.4772782\n",
      "\n"
     ]
    }
   ],
   "source": [
    "# Given data\n",
    "n <- 980\n",
    "x <- 437\n",
    "\n",
    "# Prior parameters for Beta distribution\n",
    "alpha <- c(0.5, 1, 2) \n",
    "beta <- c(0.5, 1, 2)  \n",
    "\n",
    "# Compute posterior statistics for each combination of prior parameters\n",
    "results <- array(NA, dim = c(length(alpha), length(beta), 2))  # 3D array to store credible intervals\n",
    "dimnames(results) <- list(paste0(\"Alpha=\", alpha), paste0(\"Beta=\", beta), c(\"Lower\", \"Upper\"))\n",
    "\n",
    "for (i in 1:length(alpha)) {\n",
    "  for (j in 1:length(beta)) {\n",
    "    posterior_stats <- compute_posterior_stats(alpha[i], beta[j], x, n)\n",
    "    results[i, j, ] <- posterior_stats$credible_interval\n",
    "  }\n",
    "}\n",
    "\n",
    "# Print credible intervals\n",
    "print(results)\n"
   ]
  },
  {
   "cell_type": "markdown",
   "id": "0690aa6c",
   "metadata": {},
   "source": [
    "The section labeled ', , Lower', represents the lower bounds of the 95% credible interval for each combination of alpha and beta values and the second section, labeled ', , Upper', represents the upper bounds."
   ]
  },
  {
   "cell_type": "code",
   "execution_count": 37,
   "id": "4b95c452",
   "metadata": {
    "vscode": {
     "languageId": "r"
    }
   },
   "outputs": [
    {
     "data": {
      "image/png": "[encoded data removed]",
      "text/plain": [
       "Plot with title \"Alpha=2, Beta=2\""
      ]
     },
     "metadata": {},
     "output_type": "display_data"
    }
   ],
   "source": [
    "# Plot posterior pdf and credible interval for each combination\n",
    "options(repr.plot.width=10, repr.plot.height=5)\n",
    "par(mfrow = c(length(alpha), length(beta)))\n",
    "for (i in 1:length(alpha)) {\n",
    "  for (j in 1:length(beta)) {\n",
    "    posterior_density <- dbeta(theta, alpha[i] + x, beta[j] + n - x)\n",
    "    credible_interval <- results[paste0(\"Alpha=\", alpha[i]), paste0(\"Beta=\", beta[j]), ]\n",
    "    plot(theta, posterior_density, type = \"l\", col = \"blue\", ylim = c(0, max(posterior_density)), main = paste0(\"Alpha=\", alpha[i], \", Beta=\", beta[j]), xlab = expression(theta), ylab = \"Density\")\n",
    "    abline(v = credible_interval, col = \"red\")\n",
    "  }\n",
    "}\n",
    "par(mfrow = c(1, 1))  # Reset plotting parameters"
   ]
  },
  {
   "cell_type": "code",
   "execution_count": 41,
   "id": "cab5ccde",
   "metadata": {
    "vscode": {
     "languageId": "r"
    }
   },
   "outputs": [
    {
     "name": "stdout",
     "output_type": "stream",
     "text": [
      "MAP and Posterior Expectation Estimators:\n",
      "Alpha = 0.5 , Beta = 0.5 :\n",
      "  MAP: 0.4458631 \n",
      "  Posterior Expectation: 0.4459735 \n",
      "\n",
      "Alpha = 0.5 , Beta = 1 :\n",
      "  MAP: 0.4456355 \n",
      "  Posterior Expectation: 0.4457463 \n",
      "\n",
      "Alpha = 0.5 , Beta = 2 :\n",
      "  MAP: 0.445181 \n",
      "  Posterior Expectation: 0.4452926 \n",
      "\n",
      "Alpha = 1 , Beta = 0.5 :\n",
      "  MAP: 0.446146 \n",
      "  Posterior Expectation: 0.4462557 \n",
      "\n",
      "Alpha = 1 , Beta = 1 :\n",
      "  MAP: 0.4459184 \n",
      "  Posterior Expectation: 0.4460285 \n",
      "\n",
      "Alpha = 1 , Beta = 2 :\n",
      "  MAP: 0.4454638 \n",
      "  Posterior Expectation: 0.4455748 \n",
      "\n",
      "Alpha = 2 , Beta = 0.5 :\n",
      "  MAP: 0.4467109 \n",
      "  Posterior Expectation: 0.4468193 \n",
      "\n",
      "Alpha = 2 , Beta = 1 :\n",
      "  MAP: 0.4464832 \n",
      "  Posterior Expectation: 0.4465921 \n",
      "\n",
      "Alpha = 2 , Beta = 2 :\n",
      "  MAP: 0.4460285 \n",
      "  Posterior Expectation: 0.4461382 \n",
      "\n"
     ]
    }
   ],
   "source": [
    "# Print MAP and posterior expectation estimators for each combination\n",
    "cat(\"MAP and Posterior Expectation Estimators:\\n\")\n",
    "for (i in 1:length(alpha)) {\n",
    "  for (j in 1:length(beta)) {\n",
    "    posterior_stats <- compute_posterior_stats(alpha[i], beta[j], x, n)\n",
    "    cat(\"Alpha =\", alpha[i], \", Beta =\", beta[j], \":\\n\")\n",
    "    cat(\"  MAP:\", posterior_stats$mode, \"\\n\")\n",
    "    cat(\"  Posterior Expectation:\", posterior_stats$mean, \"\\n\\n\")\n",
    "  }\n",
    "}"
   ]
  },
  {
   "cell_type": "code",
   "execution_count": 61,
   "id": "0e6fd800",
   "metadata": {
    "vscode": {
     "languageId": "r"
    }
   },
   "outputs": [
    {
     "data": {
      "text/html": [
       "<dl>\n",
       "\t<dt>$expectation</dt>\n",
       "\t\t<dd>1.7125</dd>\n",
       "\t<dt>$variance</dt>\n",
       "\t\t<dd>2.10229166666667</dd>\n",
       "</dl>\n"
      ],
      "text/latex": [
       "\\begin{description}\n",
       "\\item[\\$expectation] 1.7125\n",
       "\\item[\\$variance] 2.10229166666667\n",
       "\\end{description}\n"
      ],
      "text/markdown": [
       "$expectation\n",
       ":   1.7125\n",
       "$variance\n",
       ":   2.10229166666667\n",
       "\n",
       "\n"
      ],
      "text/plain": [
       "$expectation\n",
       "[1] 1.7125\n",
       "\n",
       "$variance\n",
       "[1] 2.102292\n"
      ]
     },
     "metadata": {},
     "output_type": "display_data"
    }
   ],
   "source": [
    "# Function to compute the expectation and variance of the piecewise linear nonconjugate prior\n",
    "expectation_variance <- function(m, c, a, b) {\n",
    "  E_h <- a + b * m / 2\n",
    "  Var_h <- (b^2 / 12) * (c^2 + 4 * m * (1 - m))\n",
    "  return(list(expectation = E_h, variance = Var_h))\n",
    "}\n",
    "\n",
    "# Given parameters for the piecewise linear nonconjugate prior\n",
    "m <- 0.485\n",
    "c <- 0.100\n",
    "a <- 0.5\n",
    "b <- 5.0\n",
    "\n",
    "# Compute expectation and variance\n",
    "prior_stats <- expectation_variance(m, c, a, b)\n",
    "prior_stats\n"
   ]
  },
  {
   "cell_type": "markdown",
   "id": "0c6d7a17",
   "metadata": {},
   "source": [
    "We will now follow a similar aproached as before fo the piecewise linear nonconjugate prior and compare the results."
   ]
  },
  {
   "cell_type": "code",
   "execution_count": 46,
   "id": "6dae358d",
   "metadata": {
    "vscode": {
     "languageId": "r"
    }
   },
   "outputs": [],
   "source": [
    "# Define the piecewise linear nonconjugate prior function as in the given notebook\n",
    "m<-0.485\n",
    "c<-0.100\n",
    "p.tails<-0.4  \n",
    "a<-0.5\n",
    "b<-5.0\n",
    "A<-a+b-(b*m)/c\n",
    "B<-a+b+(b*m)/c\n",
    "h<-function(t){return(a*(t>=0)*(t<m-c)+a*(t>m+c)*(t<=1)+(A+b*t/c)*(t>m-c)*(t<m)+(B-b*t/c)*(t>m)*(t<m+c))}"
   ]
  },
  {
   "cell_type": "code",
   "execution_count": 57,
   "id": "a74647ef",
   "metadata": {
    "vscode": {
     "languageId": "r"
    }
   },
   "outputs": [],
   "source": [
    "# Function to compute the posterior statistics using the piecewise linear nonconjugate prior\n",
    "compute_posterior_stats_nonconjugate <- function(t, x, n) {\n",
    "  # Compute posterior mean\n",
    "  posterior_mean <- sum(t * h(t) * dbinom(x, n, t)) / sum(h(t) * dbinom(x, n, t))\n",
    "  \n",
    "  # Compute posterior mode (MAP)\n",
    "  posterior_density <- h(t) * dbinom(x, n, t)\n",
    "  posterior_mode <- t[which.max(posterior_density)]\n",
    "  \n",
    "  # Compute cumulative posterior density\n",
    "  cum_posterior_density <- cumsum(posterior_density)\n",
    "  \n",
    "  # Compute lower bound of 95% credible interval\n",
    "  lower_index <- which.max(cum_posterior_density >= 0.025)\n",
    "  lower_bound <- ifelse(length(lower_index) > 0, t[lower_index[1]], 0)\n",
    "  \n",
    "  # Compute upper bound of 95% credible interval\n",
    "  upper_index <- which.max(cum_posterior_density >= 0.975)\n",
    "  upper_bound <- ifelse(length(upper_index) > 0, t[upper_index[1]], 1)\n",
    "  \n",
    "  credible_interval <- c(lower_bound, upper_bound)\n",
    "  \n",
    "  return(list(mean = posterior_mean, mode = posterior_mode, credible_interval = credible_interval))\n",
    "}\n",
    "\n"
   ]
  },
  {
   "cell_type": "code",
   "execution_count": 59,
   "id": "02e47946",
   "metadata": {
    "vscode": {
     "languageId": "r"
    }
   },
   "outputs": [
    {
     "name": "stdout",
     "output_type": "stream",
     "text": [
      "Piecewise Linear Nonconjugate Prior:\n",
      "  MAP: 0.4494494 \n",
      "  Posterior Expectation: 0.4495194 \n",
      "  95% Credible Interval: 0.4124124 - 0.4404404 \n"
     ]
    }
   ],
   "source": [
    "# Given data\n",
    "n <- 980\n",
    "x <- 437\n",
    "N <- 1000 # number of grid intervals\n",
    "t <- seq(0, 1, length = N)\n",
    "t <- t[-N]  # remove last point (equal to 1: we want N intervals)\n",
    "\n",
    "# Compute posterior statistics using the piecewise linear nonconjugate prior\n",
    "posterior_stats_nonconjugate <- compute_posterior_stats_nonconjugate(t, x, n)\n",
    "\n",
    "# Print posterior statistics\n",
    "cat(\"Piecewise Linear Nonconjugate Prior:\\n\")\n",
    "cat(\"  MAP:\", posterior_stats_nonconjugate$mode, \"\\n\")\n",
    "cat(\"  Posterior Expectation:\", posterior_stats_nonconjugate$mean, \"\\n\")\n",
    "cat(\"  95% Credible Interval:\", posterior_stats_nonconjugate$credible_interval[1], \"-\", posterior_stats_nonconjugate$credible_interval[2], \"\\n\")\n"
   ]
  },
  {
   "cell_type": "markdown",
   "id": "85f505be",
   "metadata": {},
   "source": [
    "There is somithing wrong here I think in the results"
   ]
  },
  {
   "cell_type": "code",
   "execution_count": 60,
   "id": "940770e9",
   "metadata": {
    "vscode": {
     "languageId": "r"
    }
   },
   "outputs": [
    {
     "data": {
      "image/png": "[encoded data removed]",
      "text/plain": [
       "Plot with title \"Piecewise Linear Prior\""
      ]
     },
     "metadata": {},
     "output_type": "display_data"
    }
   ],
   "source": [
    "# Create a sequence of points for plotting\n",
    "u <- seq(0, 1, length = N)\n",
    "\n",
    "# Plot the piecewise linear prior\n",
    "plot(u, h(u), type = \"l\", lwd = 2, col = \"blue\", xlim = c(0, 1), ylim = c(0, 5.5),\n",
    "     ylab = \"\", main = \"Piecewise Linear Prior\")\n",
    "abline(h = 0, lwd = 2, col = \"black\")\n",
    "abline(v = m, lwd = 2, col = \"green\")\n",
    "abline(h = a + b, lwd = 2, col = \"green\")\n",
    "lines(u, h(u), lwd = 2, col = \"blue\")\n",
    "text(-0.01, a + b - 0.15, \"a+b\")\n",
    "text(-0.01, a + 0.15, \"a\")\n",
    "text(m, -0.15, \"m\")\n",
    "text(m - c - 0.01, -0.15, \"m-c\")\n",
    "text(m + c - 0.01, -0.15, \"m+c\")"
   ]
  },
  {
   "cell_type": "markdown",
   "id": "000f4752",
   "metadata": {},
   "source": [
    "### Exercise 1.2"
   ]
  },
  {
   "cell_type": "code",
   "execution_count": null,
   "id": "efbeb533",
   "metadata": {
    "vscode": {
     "languageId": "r"
    }
   },
   "outputs": [],
   "source": []
  },
  {
   "cell_type": "markdown",
   "id": "f1ffd5d7",
   "metadata": {},
   "source": [
    "### Exercise 1.3"
   ]
  },
  {
   "cell_type": "code",
   "execution_count": null,
   "id": "5f7d27ef",
   "metadata": {
    "vscode": {
     "languageId": "r"
    }
   },
   "outputs": [],
   "source": []
  },
  {
   "cell_type": "markdown",
   "id": "9c34f71a",
   "metadata": {},
   "source": [
    "## Exercise 2: Asthma mortality\n",
    "\n",
    "This exercise pertains to `Poisson.01.pub.ipynb` (lecture 7). Review this notebook as well as the notes concerning the Poisson model and do the following:\n",
    "\n",
    " 1. Generate a sample from the prior predictive distribution.\n",
    " \n",
    " 2. Generate a sample from the posterior predictive distribution after the first experiment (with $y=3$ after one year in a population of 200,000). \n",
    "\n",
    "In both cases plot the simulated pmf and compare it with the theoretical one and estimate the probability of having more than 25 fatalities in the next 10 years (assuming all other conditions remain constant)."
   ]
  }
 ],
 "metadata": {
  "kernelspec": {
   "display_name": "R",
   "language": "R",
   "name": "ir"
  },
  "language_info": {
   "codemirror_mode": "r",
   "file_extension": ".r",
   "mimetype": "text/x-r-source",
   "name": "R",
   "pygments_lexer": "r",
   "version": "3.6.1"
  }
 },
 "nbformat": 4,
 "nbformat_minor": 5
}
