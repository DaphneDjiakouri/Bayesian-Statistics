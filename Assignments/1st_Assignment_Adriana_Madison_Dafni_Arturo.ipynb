{
 "cells": [
  {
   "cell_type": "markdown",
   "id": "indoor-catalyst",
   "metadata": {
    "tags": []
   },
   "source": [
    "<h1 style=\"color:blue\"> Bayesian Statistics and Probabilistic Programming</h1>\n",
    "\n",
    "<h1 style=\"color:blue\"> Spring 2024 - Homework 01</h1>\n",
    "\n",
    "<h3 style=\"color:blue\">2024-03-25</h3>"
   ]
  },
  {
   "cell_type": "markdown",
   "id": "floppy-carbon",
   "metadata": {},
   "source": [
    "<h1 style=\"color:blue\">Contributors</h1>"
   ]
  },
  {
   "cell_type": "markdown",
   "id": "f55622e7",
   "metadata": {},
   "source": [
    "### Adriana Alvaro Email:\n",
    "### Madison Chester Email:\n",
    "### Dafni Tziakouri Email: dtziaktz7@alumnes.ub.edu\n",
    "### Arturo Fredes Email:"
   ]
  },
  {
   "cell_type": "markdown",
   "id": "b51a75a2",
   "metadata": {},
   "source": [
    "<h1 style=\"color:blue\">Exercises</h1>"
   ]
  },
  {
   "cell_type": "markdown",
   "id": "41a31419",
   "metadata": {},
   "source": [
    "## Exercise 1: Placenta previa"
   ]
  },
  {
   "cell_type": "markdown",
   "id": "5dc76861",
   "metadata": {},
   "source": [
    "This exercise pertains to what we studied in `Binomial.3.Placenta.previa.pub.ipynb`.\n",
    "\n",
    "1. Compute the posterior pdf, and both prior and posterior predictor pmf for the placenta previa problem, using a conjugate $\\textrm{Beta}(\\alpha,\\beta)$ prior, for several values of the parameters, obtaining for each of them a 95% (centered) credible interval and the MAP and posterior expectation estimators of $\\theta$. In particular, reproduce Figure 2.3 and Table 2.1 in BDA3 [1]. Do the same for those $\\alpha_0$ and $\\beta_0$ such that $\\textrm{Beta}(\\alpha_0,\\beta_0)$ has the same expectation and variance than the piecewise linear nonconjugate prior. Compare the posterior quantities with both priors. \n",
    "\n",
    "2. Simulate the prior predictive pmf with the nonconjugate piecewise linear pdf. Do it in both possible ways: (1) Sample from $h$ by the inverse transformation method and (2) Sample from its discretization. Summarize the resulting simulated sample: plot the empirical pmf, compute median, mode, expectation, standard deviation. Compare the results with those obtained from the conjugate prior $\\textrm{Beta}(\\alpha_0,\\beta_0)$. \n",
    "\n",
    "3. Simulate the posterior predictive pmf (given the observed data of 437 female births from 980 placenta previa births) with the nonconjugate piecewise linear pdf. Sample from the the discretization of the posterior pdf as in Exercise 1. Summarize the resulting simulated sample: plot the empirical pmf, compute median, mode, expectation, standard deviation. Compare the results with those obtained from the conjugate prior $\\textrm{Beta}(\\alpha_0,\\beta_0)$.\n",
    "\n",
    "[1] _Bayesian Data Analysis - Third edition_ **(BDA3),** pag. 37."
   ]
  },
  {
   "cell_type": "markdown",
   "id": "b178625c",
   "metadata": {},
   "source": [
    "### Exercise 1.1"
   ]
  },
  {
   "cell_type": "code",
   "execution_count": 13,
   "id": "ca7f6cf6",
   "metadata": {
    "vscode": {
     "languageId": "r"
    }
   },
   "outputs": [
    {
     "name": "stderr",
     "output_type": "stream",
     "text": [
      "also installing the dependencies 'cli', 'gtable', 'lifecycle', 'rlang', 'scales', 'vctrs'\n",
      "\n",
      "Warning message:\n",
      "\"unable to access index for repository https://cloud.r-project.org/bin/windows/contrib/3.6:\n",
      "  cannot open URL 'https://cloud.r-project.org/bin/windows/contrib/3.6/PACKAGES'\"Packages which are only available in source form, and may need\n",
      "  compilation of C/C++/Fortran: 'cli' 'rlang' 'scales' 'vctrs'\n"
     ]
    },
    {
     "name": "stdout",
     "output_type": "stream",
     "text": [
      "  These will not be installed\n"
     ]
    },
    {
     "name": "stderr",
     "output_type": "stream",
     "text": [
      "installing the source packages 'gtable', 'lifecycle', 'ggplot2'\n",
      "\n",
      "Warning message in install.packages(\"ggplot2\"):\n",
      "\"installation of package 'lifecycle' had non-zero exit status\"Warning message in install.packages(\"ggplot2\"):\n",
      "\"installation of package 'gtable' had non-zero exit status\"Warning message in install.packages(\"ggplot2\"):\n",
      "\"installation of package 'ggplot2' had non-zero exit status\"Warning message:\n",
      "\"package 'BayesianFirstAid' is not available (for R version 3.6.1)\"Warning message:\n",
      "\"unable to access index for repository https://cloud.r-project.org/bin/windows/contrib/3.6:\n",
      "  cannot open URL 'https://cloud.r-project.org/bin/windows/contrib/3.6/PACKAGES'\""
     ]
    }
   ],
   "source": [
    "install.packages(\"ggplot2\")\n",
    "install.packages(\"BayesianFirstAid\")"
   ]
  },
  {
   "cell_type": "code",
   "execution_count": 5,
   "id": "9b88d7ad",
   "metadata": {
    "vscode": {
     "languageId": "r"
    }
   },
   "outputs": [
    {
     "ename": "ERROR",
     "evalue": "Error in library(ggplot2): there is no package called 'ggplot2'\n",
     "output_type": "error",
     "traceback": [
      "Error in library(ggplot2): there is no package called 'ggplot2'\nTraceback:\n",
      "1. library(ggplot2)"
     ]
    }
   ],
   "source": [
    "# Required Libraries\n",
    "library(ggplot2)\n",
    "library(BayesianFirstAid)\n",
    "\n",
    "# Observed data\n",
    "n <- 980\n",
    "x <- 437\n",
    "\n",
    "# Prior parameters for Beta distribution\n",
    "alphas <- c(1, 5, 10, 20)\n",
    "betas <- c(1, 5, 10, 20)"
   ]
  },
  {
   "cell_type": "code",
   "execution_count": null,
   "id": "6b0fa15d",
   "metadata": {
    "vscode": {
     "languageId": "r"
    }
   },
   "outputs": [],
   "source": [
    "# Function to compute posterior parameters and statistics\n",
    "compute_posterior <- function(alpha, beta, x, n) {\n",
    "  # Compute posterior parameters\n",
    "  alpha_post <- alpha + x\n",
    "  beta_post <- beta + n - x\n",
    "  \n",
    "  # Compute posterior statistics\n",
    "  theta_mode <- (alpha_post - 1) / (alpha_post + beta_post - 2)\n",
    "  theta_mean <- alpha_post / (alpha_post + beta_post)\n",
    "  \n",
    "  # Compute 95% centered credible interval\n",
    "  cred_interval <- qbeta(c(0.025, 0.975), alpha_post, beta_post)\n",
    "  \n",
    "  # Return results\n",
    "  return(list(alpha_post = alpha_post, beta_post = beta_post, \n",
    "              mode = theta_mode, mean = theta_mean,\n",
    "              credible_interval = cred_interval))\n",
    "}\n",
    "\n",
    "# Compute posterior for different alpha and beta values\n",
    "posterior_results <- lapply(alphas, function(alpha) {\n",
    "  lapply(betas, function(beta) {\n",
    "    compute_posterior(alpha, beta, x, n)\n",
    "  })\n",
    "})"
   ]
  },
  {
   "cell_type": "code",
   "execution_count": null,
   "id": "e6b9efb5",
   "metadata": {
    "vscode": {
     "languageId": "r"
    }
   },
   "outputs": [],
   "source": [
    "# Compare results with piecewise linear nonconjugate prior\n",
    "# We'll use the results from the notebook for comparison\n",
    "\n",
    "# Display posterior statistics for different priors\n",
    "for (i in seq_along(alphas)) {\n",
    "  for (j in seq_along(betas)) {\n",
    "    cat(sprintf(\"Alpha = %d, Beta = %d:\\n\", alphas[i], betas[j]))\n",
    "    cat(\"Conjugate Prior:\\n\")\n",
    "    cat(sprintf(\"  Posterior Mode: %.3f\\n\", posterior_results[[i]][[j]]$mode))\n",
    "    cat(sprintf(\"  Posterior Mean: %.3f\\n\", posterior_results[[i]][[j]]$mean))\n",
    "    cat(sprintf(\"  95%% Credible Interval: [%.3f, %.3f]\\n\", \n",
    "                posterior_results[[i]][[j]]$credible_interval[1],\n",
    "                posterior_results[[i]][[j]]$credible_interval[2]))\n",
    "    cat(\"\\n\")\n",
    "  }\n",
    "}"
   ]
  },
  {
   "cell_type": "markdown",
   "id": "000f4752",
   "metadata": {},
   "source": [
    "### Exercise 1.2"
   ]
  },
  {
   "cell_type": "code",
   "execution_count": null,
   "id": "efbeb533",
   "metadata": {
    "vscode": {
     "languageId": "r"
    }
   },
   "outputs": [],
   "source": []
  },
  {
   "cell_type": "markdown",
   "id": "f1ffd5d7",
   "metadata": {},
   "source": [
    "### Exercise 1.3"
   ]
  },
  {
   "cell_type": "code",
   "execution_count": null,
   "id": "5f7d27ef",
   "metadata": {
    "vscode": {
     "languageId": "r"
    }
   },
   "outputs": [],
   "source": []
  },
  {
   "cell_type": "markdown",
   "id": "9c34f71a",
   "metadata": {},
   "source": [
    "## Exercise 2: Asthma mortality\n",
    "\n",
    "This exercise pertains to `Poisson.01.pub.ipynb` (lecture 7). Review this notebook as well as the notes concerning the Poisson model and do the following:\n",
    "\n",
    " 1. Generate a sample from the prior predictive distribution.\n",
    " \n",
    " 2. Generate a sample from the posterior predictive distribution after the first experiment (with $y=3$ after one year in a population of 200,000). \n",
    "\n",
    "In both cases plot the simulated pmf and compare it with the theoretical one and estimate the probability of having more than 25 fatalities in the next 10 years (assuming all other conditions remain constant)."
   ]
  }
 ],
 "metadata": {
  "kernelspec": {
   "display_name": "R",
   "language": "R",
   "name": "ir"
  },
  "language_info": {
   "codemirror_mode": "r",
   "file_extension": ".r",
   "mimetype": "text/x-r-source",
   "name": "R",
   "pygments_lexer": "r",
   "version": "3.6.1"
  }
 },
 "nbformat": 4,
 "nbformat_minor": 5
}
