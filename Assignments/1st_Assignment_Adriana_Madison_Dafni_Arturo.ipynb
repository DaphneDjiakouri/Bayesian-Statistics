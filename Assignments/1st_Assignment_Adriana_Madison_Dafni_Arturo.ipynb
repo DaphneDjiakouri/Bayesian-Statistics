{
 "cells": [
  {
   "cell_type": "markdown",
   "id": "indoor-catalyst",
   "metadata": {
    "tags": []
   },
   "source": [
    "<h1 style=\"color:blue\"> Bayesian Statistics and Probabilistic Programming</h1>\n",
    "\n",
    "<h1 style=\"color:blue\"> Spring 2024 - Homework 01</h1>\n",
    "\n",
    "<h3 style=\"color:blue\">2024-03-25</h3>"
   ]
  },
  {
   "cell_type": "markdown",
   "id": "floppy-carbon",
   "metadata": {},
   "source": [
    "<h1 style=\"color:blue\">Contributors</h1>"
   ]
  },
  {
   "cell_type": "markdown",
   "id": "f55622e7",
   "metadata": {},
   "source": [
    "### Adriana Alvaro Email:\n",
    "### Madison Chester Email:\n",
    "### Dafni Tziakouri Email: dtziaktz7@alumnes.ub.edu\n",
    "### Arturo Fredes Email:"
   ]
  },
  {
   "cell_type": "markdown",
   "id": "b51a75a2",
   "metadata": {},
   "source": [
    "<h1 style=\"color:blue\">Exercises</h1>"
   ]
  },
  {
   "cell_type": "markdown",
   "id": "41a31419",
   "metadata": {},
   "source": [
    "## Exercise 1: Placenta previa"
   ]
  },
  {
   "cell_type": "markdown",
   "id": "5dc76861",
   "metadata": {},
   "source": [
    "This exercise pertains to what we studied in `Binomial.3.Placenta.previa.pub.ipynb`.\n",
    "\n",
    "1. Compute the posterior pdf, and both prior and posterior predictor pmf for the placenta previa problem, using a conjugate $\\textrm{Beta}(\\alpha,\\beta)$ prior, for several values of the parameters, obtaining for each of them a 95% (centered) credible interval and the MAP and posterior expectation estimators of $\\theta$. In particular, reproduce Figure 2.3 and Table 2.1 in BDA3 [1]. Do the same for those $\\alpha_0$ and $\\beta_0$ such that $\\textrm{Beta}(\\alpha_0,\\beta_0)$ has the same expectation and variance than the piecewise linear nonconjugate prior. Compare the posterior quantities with both priors. \n",
    "\n",
    "2. Simulate the prior predictive pmf with the nonconjugate piecewise linear pdf. Do it in both possible ways: (1) Sample from $h$ by the inverse transformation method and (2) Sample from its discretization. Summarize the resulting simulated sample: plot the empirical pmf, compute median, mode, expectation, standard deviation. Compare the results with those obtained from the conjugate prior $\\textrm{Beta}(\\alpha_0,\\beta_0)$. \n",
    "\n",
    "3. Simulate the posterior predictive pmf (given the observed data of 437 female births from 980 placenta previa births) with the nonconjugate piecewise linear pdf. Sample from the the discretization of the posterior pdf as in Exercise 1. Summarize the resulting simulated sample: plot the empirical pmf, compute median, mode, expectation, standard deviation. Compare the results with those obtained from the conjugate prior $\\textrm{Beta}(\\alpha_0,\\beta_0)$.\n",
    "\n",
    "[1] _Bayesian Data Analysis - Third edition_ **(BDA3),** pag. 37."
   ]
  },
  {
   "cell_type": "markdown",
   "id": "b178625c",
   "metadata": {},
   "source": [
    "### Exercise 1.1"
   ]
  },
  {
   "cell_type": "markdown",
   "id": "12521138",
   "metadata": {},
   "source": [
    "Since we're dealing with a Bernoulli trial (success or failure), the likelihood function is given by the binomial probability mass function:\n",
    "$$\n",
    "    f(x|\\theta)=\\theta^{x}\\cdot(1-\\theta)^{(n-x)}\n",
    "$$\n",
    "\n",
    "Where,\n",
    "- x is the number of successes (placenta previa cases),\n",
    "\n",
    "- n is the total number of trials (total pregnancies),\n",
    "\n",
    "- θ is the probability of success (the parameter we want to estimate).\n"
   ]
  },
  {
   "cell_type": "markdown",
   "id": "f526d2c6",
   "metadata": {},
   "source": [
    "We'll use a Beta distribution as the prior, which is conjugate to the binomial likelihood function. The Beta distribution has two shape parameters, α and β:\n",
    "$$\n",
    "\\text{Prior}(\\theta \\mid \\alpha, \\beta) = \\frac{\\theta^{\\alpha - 1} \\cdot (1 - \\theta)^{\\beta - 1}}{B(\\alpha, \\beta)}\n",
    "$$\n",
    "\n",
    "Where,\n",
    "- B(α,β) is the Beta function, serving as the normalizing constant.\n"
   ]
  },
  {
   "cell_type": "markdown",
   "id": "e5be1141",
   "metadata": {},
   "source": [
    "Using Bayes' theorem, we can compute the posterior distribution, which is also a Beta distribution with updated parameters.\n",
    "$$\n",
    "\\text{Posterior}(\\theta \\mid x, n, \\alpha, \\beta) \\propto \\text{Lik}(\\theta \\mid x, n) \\times \\text{Prior}(\\theta \\mid \\alpha, \\beta)\n",
    "$$\n",
    "\n",
    "$$\n",
    "\\text{Posterior}(\\theta \\mid x, n, \\alpha, \\beta) = \\frac{\\theta^{\\alpha+x-1} \\cdot (1-\\theta)^{\\beta+n-x-1}}{B(\\alpha+x, \\beta+n-x)}\n",
    "$$\n"
   ]
  },
  {
   "cell_type": "code",
   "execution_count": 1,
   "id": "2fa02445",
   "metadata": {
    "vscode": {
     "languageId": "r"
    }
   },
   "outputs": [],
   "source": [
    "# Given data\n",
    "n <- 980\n",
    "x <- 437"
   ]
  },
  {
   "cell_type": "code",
   "execution_count": 2,
   "id": "15080629",
   "metadata": {
    "vscode": {
     "languageId": "r"
    }
   },
   "outputs": [],
   "source": [
    "# Function to compute the Beta posterior parameters and quantities\n",
    "compute_beta_posterior <- function(alpha, beta, x, n) {\n",
    "  # Compute posterior parameters\n",
    "  alpha_post <- alpha + x\n",
    "  beta_post <- beta + n - x\n",
    "  \n",
    "  # Compute 95% centered credible interval\n",
    "  credible_interval <- qbeta(c(0.025, 0.975), alpha_post, beta_post)\n",
    "  \n",
    "  # Compute MAP estimator\n",
    "  map_estimator <- (alpha_post - 1) / (alpha_post + beta_post - 2)\n",
    "  \n",
    "  # Compute posterior expectation estimator\n",
    "  posterior_expectation <- alpha_post / (alpha_post + beta_post)\n",
    "  \n",
    "  return(list(alpha_post = alpha_post, beta_post = beta_post, credible_interval = credible_interval,\n",
    "              map_estimator = map_estimator, posterior_expectation = posterior_expectation))\n",
    "}"
   ]
  },
  {
   "cell_type": "code",
   "execution_count": 9,
   "id": "5ad4039a",
   "metadata": {
    "vscode": {
     "languageId": "r"
    }
   },
   "outputs": [
    {
     "name": "stdout",
     "output_type": "stream",
     "text": [
      "Alpha: 0.5 - Beta: 0.5 \n",
      "Posterior parameters (alpha_post, beta_post): 437.5 , 543.5 \n",
      "95% Credible Interval: 0.4149953 0.4771604 \n",
      "MAP Estimator: 0.4458631 \n",
      "Posterior Expectation Estimator: 0.4459735 \n",
      "\n",
      "Alpha: 0.5 - Beta: 1 \n",
      "Posterior parameters (alpha_post, beta_post): 437.5 , 544 \n",
      "95% Credible Interval: 0.4147779 0.4769241 \n",
      "MAP Estimator: 0.4456355 \n",
      "Posterior Expectation Estimator: 0.4457463 \n",
      "\n",
      "Alpha: 0.5 - Beta: 2 \n",
      "Posterior parameters (alpha_post, beta_post): 437.5 , 545 \n",
      "95% Credible Interval: 0.4143439 0.4764523 \n",
      "MAP Estimator: 0.445181 \n",
      "Posterior Expectation Estimator: 0.4452926 \n",
      "\n",
      "Alpha: 0.5 - Beta: 5 \n",
      "Posterior parameters (alpha_post, beta_post): 437.5 , 548 \n",
      "95% Credible Interval: 0.4130473 0.4750424 \n",
      "MAP Estimator: 0.4438231 \n",
      "Posterior Expectation Estimator: 0.4439371 \n",
      "\n",
      "Alpha: 0.5 - Beta: 10 \n",
      "Posterior parameters (alpha_post, beta_post): 437.5 , 553 \n",
      "95% Credible Interval: 0.4109044 0.4727109 \n",
      "MAP Estimator: 0.4415781 \n",
      "Posterior Expectation Estimator: 0.4416961 \n",
      "\n",
      "Alpha: 1 - Beta: 0.5 \n",
      "Posterior parameters (alpha_post, beta_post): 438 , 543.5 \n",
      "95% Credible Interval: 0.4152829 0.477436 \n",
      "MAP Estimator: 0.446146 \n",
      "Posterior Expectation Estimator: 0.4462557 \n",
      "\n",
      "Alpha: 1 - Beta: 1 \n",
      "Posterior parameters (alpha_post, beta_post): 438 , 544 \n",
      "95% Credible Interval: 0.4150655 0.4771998 \n",
      "MAP Estimator: 0.4459184 \n",
      "Posterior Expectation Estimator: 0.4460285 \n",
      "\n",
      "Alpha: 1 - Beta: 2 \n",
      "Posterior parameters (alpha_post, beta_post): 438 , 545 \n",
      "95% Credible Interval: 0.4146314 0.4767279 \n",
      "MAP Estimator: 0.4454638 \n",
      "Posterior Expectation Estimator: 0.4455748 \n",
      "\n",
      "Alpha: 1 - Beta: 5 \n",
      "Posterior parameters (alpha_post, beta_post): 438 , 548 \n",
      "95% Credible Interval: 0.4133346 0.4753179 \n",
      "MAP Estimator: 0.4441057 \n",
      "Posterior Expectation Estimator: 0.4442191 \n",
      "\n",
      "Alpha: 1 - Beta: 10 \n",
      "Posterior parameters (alpha_post, beta_post): 438 , 553 \n",
      "95% Credible Interval: 0.4111912 0.4729862 \n",
      "MAP Estimator: 0.4418605 \n",
      "Posterior Expectation Estimator: 0.4419778 \n",
      "\n",
      "Alpha: 2 - Beta: 0.5 \n",
      "Posterior parameters (alpha_post, beta_post): 439 , 543.5 \n",
      "95% Credible Interval: 0.4158573 0.4779865 \n",
      "MAP Estimator: 0.4467109 \n",
      "Posterior Expectation Estimator: 0.4468193 \n",
      "\n",
      "Alpha: 2 - Beta: 1 \n",
      "Posterior parameters (alpha_post, beta_post): 439 , 544 \n",
      "95% Credible Interval: 0.4156398 0.4777502 \n",
      "MAP Estimator: 0.4464832 \n",
      "Posterior Expectation Estimator: 0.4465921 \n",
      "\n",
      "Alpha: 2 - Beta: 2 \n",
      "Posterior parameters (alpha_post, beta_post): 439 , 545 \n",
      "95% Credible Interval: 0.4152056 0.4772782 \n",
      "MAP Estimator: 0.4460285 \n",
      "Posterior Expectation Estimator: 0.4461382 \n",
      "\n",
      "Alpha: 2 - Beta: 5 \n",
      "Posterior parameters (alpha_post, beta_post): 439 , 548 \n",
      "95% Credible Interval: 0.4139082 0.4758681 \n",
      "MAP Estimator: 0.4446701 \n",
      "Posterior Expectation Estimator: 0.4447822 \n",
      "\n",
      "Alpha: 2 - Beta: 10 \n",
      "Posterior parameters (alpha_post, beta_post): 439 , 553 \n",
      "95% Credible Interval: 0.411764 0.4735361 \n",
      "MAP Estimator: 0.4424242 \n",
      "Posterior Expectation Estimator: 0.4425403 \n",
      "\n",
      "Alpha: 5 - Beta: 0.5 \n",
      "Posterior parameters (alpha_post, beta_post): 442 , 543.5 \n",
      "95% Credible Interval: 0.4175739 0.4796307 \n",
      "MAP Estimator: 0.4483986 \n",
      "Posterior Expectation Estimator: 0.4485033 \n",
      "\n",
      "Alpha: 5 - Beta: 1 \n",
      "Posterior parameters (alpha_post, beta_post): 442 , 544 \n",
      "95% Credible Interval: 0.4173562 0.4793943 \n",
      "MAP Estimator: 0.4481707 \n",
      "Posterior Expectation Estimator: 0.4482759 \n",
      "\n",
      "Alpha: 5 - Beta: 2 \n",
      "Posterior parameters (alpha_post, beta_post): 442 , 545 \n",
      "95% Credible Interval: 0.4169214 0.4789222 \n",
      "MAP Estimator: 0.4477157 \n",
      "Posterior Expectation Estimator: 0.4478217 \n",
      "\n",
      "Alpha: 5 - Beta: 5 \n",
      "Posterior parameters (alpha_post, beta_post): 442 , 548 \n",
      "95% Credible Interval: 0.4156226 0.4775116 \n",
      "MAP Estimator: 0.4463563 \n",
      "Posterior Expectation Estimator: 0.4464646 \n",
      "\n",
      "Alpha: 5 - Beta: 10 \n",
      "Posterior parameters (alpha_post, beta_post): 442 , 553 \n",
      "95% Credible Interval: 0.4134759 0.4751787 \n",
      "MAP Estimator: 0.4441088 \n",
      "Posterior Expectation Estimator: 0.4442211 \n",
      "\n",
      "Alpha: 10 - Beta: 0.5 \n",
      "Posterior parameters (alpha_post, beta_post): 447 , 543.5 \n",
      "95% Credible Interval: 0.4204128 0.4823479 \n",
      "MAP Estimator: 0.4511887 \n",
      "Posterior Expectation Estimator: 0.4512872 \n",
      "\n",
      "Alpha: 10 - Beta: 1 \n",
      "Posterior parameters (alpha_post, beta_post): 447 , 544 \n",
      "95% Credible Interval: 0.4201947 0.4821114 \n",
      "MAP Estimator: 0.4509606 \n",
      "Posterior Expectation Estimator: 0.4510595 \n",
      "\n",
      "Alpha: 10 - Beta: 2 \n",
      "Posterior parameters (alpha_post, beta_post): 447 , 545 \n",
      "95% Credible Interval: 0.4197592 0.4816391 \n",
      "MAP Estimator: 0.4505051 \n",
      "Posterior Expectation Estimator: 0.4506048 \n",
      "\n",
      "Alpha: 10 - Beta: 5 \n",
      "Posterior parameters (alpha_post, beta_post): 447 , 548 \n",
      "95% Credible Interval: 0.418458 0.4802277 \n",
      "MAP Estimator: 0.449144 \n",
      "Posterior Expectation Estimator: 0.4492462 \n",
      "\n",
      "Alpha: 10 - Beta: 10 \n",
      "Posterior parameters (alpha_post, beta_post): 447 , 553 \n",
      "95% Credible Interval: 0.4163073 0.4778936 \n",
      "MAP Estimator: 0.4468938 \n",
      "Posterior Expectation Estimator: 0.447 \n",
      "\n"
     ]
    }
   ],
   "source": [
    "# Define several values of alpha and beta for the Beta prior\n",
    "alpha_values <- c(0.5, 1, 2, 5, 10)\n",
    "beta_values <- c(0.5, 1, 2, 5, 10)\n",
    "\n",
    "# Initialize lists to store results\n",
    "results <- list()\n",
    "\n",
    "# Compute posterior for each combination of alpha and beta\n",
    "for (alpha in alpha_values) {\n",
    "  for (beta in beta_values) {\n",
    "    # Compute posterior parameters and quantities\n",
    "    result <- compute_beta_posterior(alpha, beta, x, n)\n",
    "    # Store results\n",
    "    results[[paste(\"alpha\", alpha, \"beta\", beta)]] <- result\n",
    "  }\n",
    "}\n",
    "\n",
    "# Print results\n",
    "for (key in names(results)) {\n",
    "  alpha_beta <- unlist(strsplit(key, \" \"))\n",
    "  alpha <- alpha_beta[2]\n",
    "  beta <- alpha_beta[4]\n",
    "  cat(\"Alpha:\", alpha, \"- Beta:\", beta, \"\\n\")\n",
    "  cat(\"Posterior parameters (alpha_post, beta_post):\", results[[key]]$alpha_post, \",\", results[[key]]$beta_post, \"\\n\")\n",
    "  cat(\"95% Credible Interval:\", results[[key]]$credible_interval, \"\\n\")\n",
    "  cat(\"MAP Estimator:\", results[[key]]$map_estimator, \"\\n\")\n",
    "  cat(\"Posterior Expectation Estimator:\", results[[key]]$posterior_expectation, \"\\n\")\n",
    "  cat(\"\\n\")\n",
    "}\n",
    "\n"
   ]
  },
  {
   "cell_type": "markdown",
   "id": "0690aa6c",
   "metadata": {},
   "source": [
    "The section labeled ', , Lower', represents the lower bounds of the 95% credible interval for each combination of alpha and beta values and the second section, labeled ', , Upper', represents the upper bounds."
   ]
  },
  {
   "cell_type": "code",
   "execution_count": 13,
   "id": "4b95c452",
   "metadata": {
    "vscode": {
     "languageId": "r"
    }
   },
   "outputs": [
    {
     "name": "stderr",
     "output_type": "stream",
     "text": [
      "Your code contains a unicode char which cannot be displayed in your\n",
      "current locale and R will silently convert it to an escaped form when the\n",
      "R kernel executes this code. This can lead to subtle errors if you use\n",
      "such chars to do comparisons. For more information, please see\n",
      "https://github.com/IRkernel/repr/wiki/Problems-with-unicode-on-windows"
     ]
    },
    {
     "data": {
      "image/png": "[encoded data removed]",
      "text/plain": [
       "Plot with title \"Male-to-female sex ratio (f)\""
      ]
     },
     "metadata": {},
     "output_type": "display_data"
    }
   ],
   "source": [
    "# Plot histograms of the posterior distributions\n",
    "par(mfrow = c(1, 3), mar = c(5, 4, 2, 1))\n",
    "\n",
    "# (a) Posterior distribution of θ\n",
    "theta_samples <- rbeta(10000, results[[\"alpha 5 beta 5\"]]$alpha_post, results[[\"alpha 5 beta 5\"]]$beta_post)\n",
    "hist(theta_samples, main = \"Posterior distribution of θ\", xlab = \"θ\", col = \"lightblue\", border = \"white\")\n",
    "\n",
    "# (b) Logit transform of θ\n",
    "logit_theta_samples <- log(theta_samples / (1 - theta_samples))\n",
    "hist(logit_theta_samples, main = \"Logit transform of θ\", xlab = \"logit(θ)\", col = \"lightblue\", border = \"white\")\n",
    "\n",
    "# (c) Male-to-female sex ratio φ = (1 − θ)/θ\n",
    "sex_ratio_samples <- (1 - theta_samples) / theta_samples\n",
    "hist(sex_ratio_samples, main = \"Male-to-female sex ratio (φ)\", xlab = \"φ\", col = \"lightblue\", border = \"white\")"
   ]
  },
  {
   "cell_type": "code",
   "execution_count": 15,
   "id": "cab5ccde",
   "metadata": {
    "vscode": {
     "languageId": "r"
    }
   },
   "outputs": [
    {
     "name": "stdout",
     "output_type": "stream",
     "text": [
      "  Prior_Probability Prior_Sum Posterior_Median Posterior_95CI_Lower\n",
      "1       0.195171026     2.485            0.445                0.414\n",
      "2       0.088422972     5.485            0.444                0.413\n",
      "3       0.046256557    10.485            0.442                0.411\n",
      "4       0.023675860    20.485            0.437                0.407\n",
      "5       0.004826591   100.485            0.405                0.376\n",
      "6       0.002419134   200.485            0.370                0.343\n",
      "  Posterior_95CI_Upper\n",
      "1                0.476\n",
      "2                0.475\n",
      "3                0.473\n",
      "4                0.468\n",
      "5                0.434\n",
      "6                0.398\n"
     ]
    }
   ],
   "source": [
    "# Initialize a dataframe to store the results\n",
    "table_data <- data.frame(\n",
    "  Prior_Probability = numeric(),\n",
    "  Prior_Sum = numeric(),\n",
    "  Posterior_Median = numeric(),\n",
    "  Posterior_95CI_Lower = numeric(),\n",
    "  Posterior_95CI_Upper = numeric(),\n",
    "  stringsAsFactors = FALSE\n",
    ")\n",
    "\n",
    "# Define the prior alpha and beta values\n",
    "prior_alpha <- 0.485\n",
    "prior_beta_values <- c(2, 5, 10, 20, 100, 200)\n",
    "\n",
    "# Compute the posterior for each combination of prior alpha and beta\n",
    "for (prior_beta in prior_beta_values) {\n",
    "  # Compute the prior parameters\n",
    "  prior_prob <- prior_alpha / (prior_alpha + prior_beta)\n",
    "  prior_sum <- prior_alpha + prior_beta\n",
    "  \n",
    "  # Compute posterior parameters and quantities\n",
    "  posterior_result <- compute_beta_posterior(prior_alpha, prior_beta, x, n)\n",
    "  \n",
    "  # Round posterior summaries to three significant figures\n",
    "  posterior_median <- signif(posterior_result$map_estimator, digits = 3)\n",
    "  posterior_lower <- signif(posterior_result$credible_interval[1], digits = 3)\n",
    "  posterior_upper <- signif(posterior_result$credible_interval[2], digits = 3)\n",
    "  \n",
    "  # Store the results in the dataframe\n",
    "  table_data <- rbind(table_data, c(prior_prob, prior_sum,\n",
    "                                    posterior_median,\n",
    "                                    posterior_lower, posterior_upper))\n",
    "}\n",
    "\n",
    "# Rename the columns\n",
    "colnames(table_data) <- c(\"Prior_Probability\", \"Prior_Sum\",\n",
    "                          \"Posterior_Median\", \"Posterior_95CI_Lower\", \"Posterior_95CI_Upper\")\n",
    "\n",
    "# Print the table\n",
    "print(table_data)\n"
   ]
  },
  {
   "cell_type": "markdown",
   "id": "000f4752",
   "metadata": {},
   "source": [
    "### Exercise 1.2"
   ]
  },
  {
   "cell_type": "code",
   "execution_count": null,
   "id": "efbeb533",
   "metadata": {
    "vscode": {
     "languageId": "r"
    }
   },
   "outputs": [],
   "source": []
  },
  {
   "cell_type": "markdown",
   "id": "f1ffd5d7",
   "metadata": {},
   "source": [
    "### Exercise 1.3"
   ]
  },
  {
   "cell_type": "code",
   "execution_count": null,
   "id": "5f7d27ef",
   "metadata": {
    "vscode": {
     "languageId": "r"
    }
   },
   "outputs": [],
   "source": []
  },
  {
   "cell_type": "markdown",
   "id": "9c34f71a",
   "metadata": {},
   "source": [
    "## Exercise 2: Asthma mortality\n",
    "\n",
    "This exercise pertains to `Poisson.01.pub.ipynb` (lecture 7). Review this notebook as well as the notes concerning the Poisson model and do the following:\n",
    "\n",
    " 1. Generate a sample from the prior predictive distribution.\n",
    " \n",
    " 2. Generate a sample from the posterior predictive distribution after the first experiment (with $y=3$ after one year in a population of 200,000). \n",
    "\n",
    "In both cases plot the simulated pmf and compare it with the theoretical one and estimate the probability of having more than 25 fatalities in the next 10 years (assuming all other conditions remain constant)."
   ]
  },
  {
   "cell_type": "code",
   "execution_count": 17,
   "id": "dd4211d2",
   "metadata": {
    "vscode": {
     "languageId": "r"
    }
   },
   "outputs": [
    {
     "name": "stdout",
     "output_type": "stream",
     "text": [
      "Theoretical mean of prior predictive distribution: 0.6 \n",
      "Theoretical variance of prior predictive distribution: 0.12 \n"
     ]
    },
    {
     "data": {
      "image/png": "[encoded data removed]",
      "text/plain": [
       "Plot with title \"Histogram of Prior Predictive Distribution\""
      ]
     },
     "metadata": {},
     "output_type": "display_data"
    }
   ],
   "source": [
    "# set the parameters for the prior distribution\n",
    "alpha <- 3\n",
    "beta <- 5\n",
    "N<-10000\n",
    "\n",
    "# generate a sample from the prior distribution\n",
    "prior_sample <- rgamma(N, alpha, beta)\n",
    "\n",
    "# plot the histogram of the prior sample\n",
    "hist(prior_sample, col=\"lightblue\", freq=FALSE, \n",
    "     main=\"Histogram of Prior Predictive Distribution\", \n",
    "     xlab=expression(theta), ylab=\"Density\")\n",
    "\n",
    "# plot the theoretical prior predictive distribution\n",
    "curve(dgamma(x, shape = alpha, rate = beta), \n",
    "      add = TRUE, col = \"red\", lwd = 2, lty = 2)\n",
    "\n",
    "# add legend\n",
    "legend(\"topright\", legend=c(\"Sampled Prior\", \"Theoretical Prior\"), \n",
    "       col=c(\"lightblue\", \"red\"), lwd=2, lty=c(1,2))\n",
    "\n",
    "# calculate theoretical mean and variance\n",
    "theoretical_mean <- alpha / beta\n",
    "theoretical_variance <- alpha / beta^2\n",
    "\n",
    "# display theoretical mean and variance\n",
    "cat(\"Theoretical mean of prior predictive distribution:\", theoretical_mean, \"\\n\")\n",
    "cat(\"Theoretical variance of prior predictive distribution:\", theoretical_variance, \"\\n\")"
   ]
  },
  {
   "cell_type": "code",
   "execution_count": 18,
   "id": "381588fb",
   "metadata": {
    "vscode": {
     "languageId": "r"
    }
   },
   "outputs": [
    {
     "name": "stdout",
     "output_type": "stream",
     "text": [
      "Theoretical mean of posterior predictive distribution: 2.999925e-05 \n",
      "Theoretical variance of posterior predictive distribution: 1.499925e-10 \n"
     ]
    },
    {
     "data": {
      "image/png": "[encoded data removed]",
      "text/plain": [
       "Plot with title \"Histogram of Posterior Predictive Distribution\""
      ]
     },
     "metadata": {},
     "output_type": "display_data"
    }
   ],
   "source": [
    "# define the observed data\n",
    "y_observed <- 3\n",
    "population_size <- 200000\n",
    "\n",
    "# update alpha and beta based on the observed data\n",
    "alpha_posterior <- alpha + y_observed\n",
    "beta_posterior <- beta + population_size\n",
    "\n",
    "# generate a sample from the posterior distribution\n",
    "posterior_sample <- rgamma(N, alpha_posterior, beta_posterior)\n",
    "\n",
    "# plot the histogram of the posterior sample\n",
    "hist(posterior_sample, col=\"lightgreen\", freq=FALSE, \n",
    "     main=\"Histogram of Posterior Predictive Distribution\", \n",
    "     xlab=expression(theta), ylab=\"Density\")\n",
    "\n",
    "# calculate theoretical mean and variance of posterior predictive distribution\n",
    "theoretical_mean_posterior <- alpha_posterior / beta_posterior\n",
    "theoretical_variance_posterior <- alpha_posterior / beta_posterior^2\n",
    "\n",
    "# display theoretical mean and variance\n",
    "cat(\"Theoretical mean of posterior predictive distribution:\", theoretical_mean_posterior, \"\\n\")\n",
    "cat(\"Theoretical variance of posterior predictive distribution:\", theoretical_variance_posterior, \"\\n\")"
   ]
  }
 ],
 "metadata": {
  "kernelspec": {
   "display_name": "R",
   "language": "R",
   "name": "ir"
  },
  "language_info": {
   "codemirror_mode": "r",
   "file_extension": ".r",
   "mimetype": "text/x-r-source",
   "name": "R",
   "pygments_lexer": "r",
   "version": "3.6.1"
  }
 },
 "nbformat": 4,
 "nbformat_minor": 5
}
