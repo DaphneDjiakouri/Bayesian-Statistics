{
 "cells": [
  {
   "cell_type": "markdown",
   "id": "indoor-catalyst",
   "metadata": {
    "tags": []
   },
   "source": [
    "<h1 style=\"color:blue\"> Bayesian Statistics and Probabilistic Programming</h1>\n",
    "\n",
    "<h1 style=\"color:blue\"> Spring 2024 - Homework 01</h1>\n",
    "\n",
    "<h3 style=\"color:blue\">2024-03-25</h3>"
   ]
  },
  {
   "cell_type": "markdown",
   "id": "floppy-carbon",
   "metadata": {},
   "source": [
    "<h1 style=\"color:blue\">Contributors</h1>"
   ]
  },
  {
   "cell_type": "markdown",
   "id": "f55622e7",
   "metadata": {},
   "source": [
    "### Adriana Alvaro Email:\n",
    "### Madison Chester Email:\n",
    "### Dafni Tziakouri Email: dtziaktz7@alumnes.ub.edu\n",
    "### Arturo Fredes Email:"
   ]
  },
  {
   "cell_type": "markdown",
   "id": "b51a75a2",
   "metadata": {},
   "source": [
    "<h1 style=\"color:blue\">Exercises</h1>"
   ]
  },
  {
   "cell_type": "markdown",
   "id": "41a31419",
   "metadata": {},
   "source": [
    "## Exercise 1: Placenta previa"
   ]
  },
  {
   "cell_type": "markdown",
   "id": "5dc76861",
   "metadata": {},
   "source": [
    "This exercise pertains to what we studied in `Binomial.3.Placenta.previa.pub.ipynb`.\n",
    "\n",
    "1. Compute the posterior pdf, and both prior and posterior predictor pmf for the placenta previa problem, using a conjugate $\\textrm{Beta}(\\alpha,\\beta)$ prior, for several values of the parameters, obtaining for each of them a 95% (centered) credible interval and the MAP and posterior expectation estimators of $\\theta$. In particular, reproduce Figure 2.3 and Table 2.1 in BDA3 [1]. Do the same for those $\\alpha_0$ and $\\beta_0$ such that $\\textrm{Beta}(\\alpha_0,\\beta_0)$ has the same expectation and variance than the piecewise linear nonconjugate prior. Compare the posterior quantities with both priors. \n",
    "\n",
    "2. Simulate the prior predictive pmf with the nonconjugate piecewise linear pdf. Do it in both possible ways: (1) Sample from $h$ by the inverse transformation method and (2) Sample from its discretization. Summarize the resulting simulated sample: plot the empirical pmf, compute median, mode, expectation, standard deviation. Compare the results with those obtained from the conjugate prior $\\textrm{Beta}(\\alpha_0,\\beta_0)$. \n",
    "\n",
    "3. Simulate the posterior predictive pmf (given the observed data of 437 female births from 980 placenta previa births) with the nonconjugate piecewise linear pdf. Sample from the the discretization of the posterior pdf as in Exercise 1. Summarize the resulting simulated sample: plot the empirical pmf, compute median, mode, expectation, standard deviation. Compare the results with those obtained from the conjugate prior $\\textrm{Beta}(\\alpha_0,\\beta_0)$.\n",
    "\n",
    "[1] _Bayesian Data Analysis - Third edition_ **(BDA3),** pag. 37."
   ]
  },
  {
   "cell_type": "code",
   "execution_count": null,
   "id": "9b88d7ad",
   "metadata": {
    "vscode": {
     "languageId": "plaintext"
    }
   },
   "outputs": [],
   "source": []
  },
  {
   "cell_type": "markdown",
   "id": "9c34f71a",
   "metadata": {},
   "source": [
    "## Exercise 2: Asthma mortality\n",
    "\n",
    "This exercise pertains to `Poisson.01.pub.ipynb` (lecture 7). Review this notebook as well as the notes concerning the Poisson model and do the following:\n",
    "\n",
    " 1. Generate a sample from the prior predictive distribution.\n",
    " \n",
    " 2. Generate a sample from the posterior predictive distribution after the first experiment (with $y=3$ after one year in a population of 200,000). \n",
    "\n",
    "In both cases plot the simulated pmf and compare it with the theoretical one and estimate the probability of having more than 25 fatalities in the next 10 years (assuming all other conditions remain constant)."
   ]
  }
 ],
 "metadata": {
  "kernelspec": {
   "display_name": "R",
   "language": "R",
   "name": "ir"
  },
  "language_info": {
   "codemirror_mode": "r",
   "file_extension": ".r",
   "mimetype": "text/x-r-source",
   "name": "R",
   "pygments_lexer": "r",
   "version": "4.2.2"
  }
 },
 "nbformat": 4,
 "nbformat_minor": 5
}
