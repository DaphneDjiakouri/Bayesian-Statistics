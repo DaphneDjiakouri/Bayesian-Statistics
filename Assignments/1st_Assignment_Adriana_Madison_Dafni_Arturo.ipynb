{
  "cells": [
    {
      "cell_type": "markdown",
      "id": "indoor-catalyst",
      "metadata": {
        "tags": [],
        "id": "indoor-catalyst"
      },
      "source": [
        "<h1 style=\"color:blue\"> Bayesian Statistics and Probabilistic Programming</h1>\n",
        "\n",
        "<h1 style=\"color:blue\"> Spring 2024 - Homework 01</h1>\n",
        "\n",
        "<h3 style=\"color:blue\">2024-03-25</h3>"
      ]
    },
    {
      "cell_type": "markdown",
      "id": "floppy-carbon",
      "metadata": {
        "id": "floppy-carbon"
      },
      "source": [
        "<h1 style=\"color:blue\">Contributors</h1>"
      ]
    },
    {
      "cell_type": "markdown",
      "id": "f55622e7",
      "metadata": {
        "id": "f55622e7"
      },
      "source": [
        "### Adriana Alvaro Email: aalvarma106@alumnes.ub.edu\n",
        "### Madison Chester Email: mchestch7@alumnes.ub.edu\n",
        "### Dafni Tziakouri Email: dtziaktz7@alumnes.ub.edu\n",
        "### Arturo Fredes Email: afredeca7@alumnes.ub.edu"
      ]
    },
    {
      "cell_type": "markdown",
      "id": "b51a75a2",
      "metadata": {
        "id": "b51a75a2"
      },
      "source": [
        "<h1 style=\"color:blue\">Exercises</h1>"
      ]
    },
    {
      "cell_type": "markdown",
      "id": "41a31419",
      "metadata": {
        "id": "41a31419"
      },
      "source": [
        "## Exercise 1: Placenta previa"
      ]
    },
    {
      "cell_type": "markdown",
      "id": "5dc76861",
      "metadata": {
        "id": "5dc76861"
      },
      "source": [
        "This exercise pertains to what we studied in `Binomial.3.Placenta.previa.pub.ipynb`.\n",
        "\n",
        "1. Compute the posterior pdf, and both prior and posterior predictor pmf for the placenta previa problem, using a conjugate $\\textrm{Beta}(\\alpha,\\beta)$ prior, for several values of the parameters, obtaining for each of them a 95% (centered) credible interval and the MAP and posterior expectation estimators of $\\theta$. In particular, reproduce Figure 2.3 and Table 2.1 in BDA3 [1]. Do the same for those $\\alpha_0$ and $\\beta_0$ such that $\\textrm{Beta}(\\alpha_0,\\beta_0)$ has the same expectation and variance than the piecewise linear nonconjugate prior. Compare the posterior quantities with both priors.\n",
        "\n",
        "2. Simulate the prior predictive pmf with the nonconjugate piecewise linear pdf. Do it in both possible ways: (1) Sample from $h$ by the inverse transformation method and (2) Sample from its discretization. Summarize the resulting simulated sample: plot the empirical pmf, compute median, mode, expectation, standard deviation. Compare the results with those obtained from the conjugate prior $\\textrm{Beta}(\\alpha_0,\\beta_0)$.\n",
        "\n",
        "3. Simulate the posterior predictive pmf (given the observed data of 437 female births from 980 placenta previa births) with the nonconjugate piecewise linear pdf. Sample from the the discretization of the posterior pdf as in Exercise 1. Summarize the resulting simulated sample: plot the empirical pmf, compute median, mode, expectation, standard deviation. Compare the results with those obtained from the conjugate prior $\\textrm{Beta}(\\alpha_0,\\beta_0)$.\n",
        "\n",
        "[1] _Bayesian Data Analysis - Third edition_ **(BDA3),** pag. 37."
      ]
    },
    {
      "cell_type": "markdown",
      "id": "b178625c",
      "metadata": {
        "id": "b178625c"
      },
      "source": [
        "## Exercise 1.1"
      ]
    },
    {
      "cell_type": "markdown",
      "id": "12521138",
      "metadata": {
        "id": "12521138"
      },
      "source": [
        "Since we're dealing with a Bernoulli trial (success or failure), the likelihood function is given by the binomial probability mass function:\n",
        "$$\n",
        "    f(x|\\theta)=\\theta^{x}\\cdot(1-\\theta)^{(n-x)}\n",
        "$$\n",
        "\n",
        "Where,\n",
        "- x is the number of successes (placenta previa cases),\n",
        "\n",
        "- n is the total number of trials (total pregnancies),\n",
        "\n",
        "- θ is the probability of success (the parameter we want to estimate).\n"
      ]
    },
    {
      "cell_type": "markdown",
      "id": "f526d2c6",
      "metadata": {
        "id": "f526d2c6"
      },
      "source": [
        "We'll use a Beta distribution as the prior, which is conjugate to the binomial likelihood function. The Beta distribution has two shape parameters, α and β:\n",
        "$$\n",
        "\\text{Prior}(\\theta \\mid \\alpha, \\beta) = \\frac{\\theta^{\\alpha - 1} \\cdot (1 - \\theta)^{\\beta - 1}}{B(\\alpha, \\beta)}\n",
        "$$\n",
        "\n",
        "Where,\n",
        "- B(α,β) is the Beta function, serving as the normalizing constant.\n"
      ]
    },
    {
      "cell_type": "markdown",
      "id": "e5be1141",
      "metadata": {
        "id": "e5be1141"
      },
      "source": [
        "Using Bayes' theorem, we can compute the posterior distribution, which is also a Beta distribution with updated parameters.\n",
        "$$\n",
        "\\text{Posterior}(\\theta \\mid x, n, \\alpha, \\beta) \\propto \\text{Lik}(\\theta \\mid x, n) \\times \\text{Prior}(\\theta \\mid \\alpha, \\beta)\n",
        "$$\n",
        "\n",
        "$$\n",
        "\\text{Posterior}(\\theta \\mid x, n, \\alpha, \\beta) = \\frac{\\theta^{\\alpha+x-1} \\cdot (1-\\theta)^{\\beta+n-x-1}}{B(\\alpha+x, \\beta+n-x)}\n",
        "$$\n"
      ]
    },
    {
      "cell_type": "code",
      "execution_count": 1,
      "id": "2fa02445",
      "metadata": {
        "vscode": {
          "languageId": "r"
        },
        "id": "2fa02445"
      },
      "outputs": [],
      "source": [
        "# Given data\n",
        "n <- 980\n",
        "x <- 437"
      ]
    },
    {
      "cell_type": "markdown",
      "id": "66939a03",
      "metadata": {
        "id": "66939a03"
      },
      "source": [
        "$ p_{\\text{MAP}} = \\frac{x + \\alpha - 1}{n + \\alpha + \\beta - 2}$"
      ]
    },
    {
      "cell_type": "code",
      "execution_count": 2,
      "id": "15080629",
      "metadata": {
        "vscode": {
          "languageId": "r"
        },
        "id": "15080629"
      },
      "outputs": [],
      "source": [
        "# Function to compute the Beta posterior parameters and quantities\n",
        "compute_beta_posterior <- function(alpha, beta, x, n) {\n",
        "  # Compute posterior parameters\n",
        "  alpha_post <- alpha + x\n",
        "  beta_post <- beta + n - x\n",
        "\n",
        "  # Compute 95% centered credible interval\n",
        "  credible_interval <- qbeta(c(0.025, 0.975), alpha_post, beta_post)\n",
        "\n",
        "  # Compute MAP estimator\n",
        "  map_estimator <- (x + alpha - 1) / (n + alpha + beta - 2)\n",
        "\n",
        "  # Compute posterior expectation estimator\n",
        "  posterior_expectation <- alpha_post / (alpha_post + beta_post)\n",
        "\n",
        "  return(list(alpha_post = alpha_post, beta_post = beta_post, credible_interval = credible_interval,\n",
        "              map_estimator = map_estimator, posterior_expectation = posterior_expectation))\n",
        "}"
      ]
    },
    {
      "cell_type": "code",
      "execution_count": 3,
      "id": "5ad4039a",
      "metadata": {
        "vscode": {
          "languageId": "r"
        },
        "colab": {
          "base_uri": "https://localhost:8080/"
        },
        "id": "5ad4039a",
        "outputId": "79a4a53f-8113-4bf8-8715-3a3b76f99197"
      },
      "outputs": [
        {
          "output_type": "stream",
          "name": "stdout",
          "text": [
            "Alpha: 0.5 - Beta: 0.5 \n",
            "Posterior parameters (alpha_post, beta_post): 437.5 , 543.5 \n",
            "95% Credible Interval: 0.4149953 0.4771604 \n",
            "MAP Estimator: 0.4458631 \n",
            "Posterior Expectation Estimator: 0.4459735 \n",
            "\n",
            "Alpha: 0.5 - Beta: 1 \n",
            "Posterior parameters (alpha_post, beta_post): 437.5 , 544 \n",
            "95% Credible Interval: 0.4147779 0.4769241 \n",
            "MAP Estimator: 0.4456355 \n",
            "Posterior Expectation Estimator: 0.4457463 \n",
            "\n",
            "Alpha: 0.5 - Beta: 2 \n",
            "Posterior parameters (alpha_post, beta_post): 437.5 , 545 \n",
            "95% Credible Interval: 0.4143439 0.4764523 \n",
            "MAP Estimator: 0.445181 \n",
            "Posterior Expectation Estimator: 0.4452926 \n",
            "\n",
            "Alpha: 0.5 - Beta: 5 \n",
            "Posterior parameters (alpha_post, beta_post): 437.5 , 548 \n",
            "95% Credible Interval: 0.4130473 0.4750424 \n",
            "MAP Estimator: 0.4438231 \n",
            "Posterior Expectation Estimator: 0.4439371 \n",
            "\n",
            "Alpha: 0.5 - Beta: 10 \n",
            "Posterior parameters (alpha_post, beta_post): 437.5 , 553 \n",
            "95% Credible Interval: 0.4109044 0.4727109 \n",
            "MAP Estimator: 0.4415781 \n",
            "Posterior Expectation Estimator: 0.4416961 \n",
            "\n",
            "Alpha: 1 - Beta: 0.5 \n",
            "Posterior parameters (alpha_post, beta_post): 438 , 543.5 \n",
            "95% Credible Interval: 0.4152829 0.477436 \n",
            "MAP Estimator: 0.446146 \n",
            "Posterior Expectation Estimator: 0.4462557 \n",
            "\n",
            "Alpha: 1 - Beta: 1 \n",
            "Posterior parameters (alpha_post, beta_post): 438 , 544 \n",
            "95% Credible Interval: 0.4150655 0.4771998 \n",
            "MAP Estimator: 0.4459184 \n",
            "Posterior Expectation Estimator: 0.4460285 \n",
            "\n",
            "Alpha: 1 - Beta: 2 \n",
            "Posterior parameters (alpha_post, beta_post): 438 , 545 \n",
            "95% Credible Interval: 0.4146314 0.4767279 \n",
            "MAP Estimator: 0.4454638 \n",
            "Posterior Expectation Estimator: 0.4455748 \n",
            "\n",
            "Alpha: 1 - Beta: 5 \n",
            "Posterior parameters (alpha_post, beta_post): 438 , 548 \n",
            "95% Credible Interval: 0.4133346 0.4753179 \n",
            "MAP Estimator: 0.4441057 \n",
            "Posterior Expectation Estimator: 0.4442191 \n",
            "\n",
            "Alpha: 1 - Beta: 10 \n",
            "Posterior parameters (alpha_post, beta_post): 438 , 553 \n",
            "95% Credible Interval: 0.4111912 0.4729862 \n",
            "MAP Estimator: 0.4418605 \n",
            "Posterior Expectation Estimator: 0.4419778 \n",
            "\n",
            "Alpha: 2 - Beta: 0.5 \n",
            "Posterior parameters (alpha_post, beta_post): 439 , 543.5 \n",
            "95% Credible Interval: 0.4158573 0.4779865 \n",
            "MAP Estimator: 0.4467109 \n",
            "Posterior Expectation Estimator: 0.4468193 \n",
            "\n",
            "Alpha: 2 - Beta: 1 \n",
            "Posterior parameters (alpha_post, beta_post): 439 , 544 \n",
            "95% Credible Interval: 0.4156398 0.4777502 \n",
            "MAP Estimator: 0.4464832 \n",
            "Posterior Expectation Estimator: 0.4465921 \n",
            "\n",
            "Alpha: 2 - Beta: 2 \n",
            "Posterior parameters (alpha_post, beta_post): 439 , 545 \n",
            "95% Credible Interval: 0.4152056 0.4772782 \n",
            "MAP Estimator: 0.4460285 \n",
            "Posterior Expectation Estimator: 0.4461382 \n",
            "\n",
            "Alpha: 2 - Beta: 5 \n",
            "Posterior parameters (alpha_post, beta_post): 439 , 548 \n",
            "95% Credible Interval: 0.4139082 0.4758681 \n",
            "MAP Estimator: 0.4446701 \n",
            "Posterior Expectation Estimator: 0.4447822 \n",
            "\n",
            "Alpha: 2 - Beta: 10 \n",
            "Posterior parameters (alpha_post, beta_post): 439 , 553 \n",
            "95% Credible Interval: 0.411764 0.4735361 \n",
            "MAP Estimator: 0.4424242 \n",
            "Posterior Expectation Estimator: 0.4425403 \n",
            "\n",
            "Alpha: 5 - Beta: 0.5 \n",
            "Posterior parameters (alpha_post, beta_post): 442 , 543.5 \n",
            "95% Credible Interval: 0.4175739 0.4796307 \n",
            "MAP Estimator: 0.4483986 \n",
            "Posterior Expectation Estimator: 0.4485033 \n",
            "\n",
            "Alpha: 5 - Beta: 1 \n",
            "Posterior parameters (alpha_post, beta_post): 442 , 544 \n",
            "95% Credible Interval: 0.4173562 0.4793943 \n",
            "MAP Estimator: 0.4481707 \n",
            "Posterior Expectation Estimator: 0.4482759 \n",
            "\n",
            "Alpha: 5 - Beta: 2 \n",
            "Posterior parameters (alpha_post, beta_post): 442 , 545 \n",
            "95% Credible Interval: 0.4169214 0.4789222 \n",
            "MAP Estimator: 0.4477157 \n",
            "Posterior Expectation Estimator: 0.4478217 \n",
            "\n",
            "Alpha: 5 - Beta: 5 \n",
            "Posterior parameters (alpha_post, beta_post): 442 , 548 \n",
            "95% Credible Interval: 0.4156226 0.4775116 \n",
            "MAP Estimator: 0.4463563 \n",
            "Posterior Expectation Estimator: 0.4464646 \n",
            "\n",
            "Alpha: 5 - Beta: 10 \n",
            "Posterior parameters (alpha_post, beta_post): 442 , 553 \n",
            "95% Credible Interval: 0.4134759 0.4751787 \n",
            "MAP Estimator: 0.4441088 \n",
            "Posterior Expectation Estimator: 0.4442211 \n",
            "\n",
            "Alpha: 10 - Beta: 0.5 \n",
            "Posterior parameters (alpha_post, beta_post): 447 , 543.5 \n",
            "95% Credible Interval: 0.4204128 0.4823479 \n",
            "MAP Estimator: 0.4511887 \n",
            "Posterior Expectation Estimator: 0.4512872 \n",
            "\n",
            "Alpha: 10 - Beta: 1 \n",
            "Posterior parameters (alpha_post, beta_post): 447 , 544 \n",
            "95% Credible Interval: 0.4201947 0.4821114 \n",
            "MAP Estimator: 0.4509606 \n",
            "Posterior Expectation Estimator: 0.4510595 \n",
            "\n",
            "Alpha: 10 - Beta: 2 \n",
            "Posterior parameters (alpha_post, beta_post): 447 , 545 \n",
            "95% Credible Interval: 0.4197592 0.4816391 \n",
            "MAP Estimator: 0.4505051 \n",
            "Posterior Expectation Estimator: 0.4506048 \n",
            "\n",
            "Alpha: 10 - Beta: 5 \n",
            "Posterior parameters (alpha_post, beta_post): 447 , 548 \n",
            "95% Credible Interval: 0.418458 0.4802277 \n",
            "MAP Estimator: 0.449144 \n",
            "Posterior Expectation Estimator: 0.4492462 \n",
            "\n",
            "Alpha: 10 - Beta: 10 \n",
            "Posterior parameters (alpha_post, beta_post): 447 , 553 \n",
            "95% Credible Interval: 0.4163073 0.4778936 \n",
            "MAP Estimator: 0.4468938 \n",
            "Posterior Expectation Estimator: 0.447 \n",
            "\n"
          ]
        }
      ],
      "source": [
        "# Define several values of alpha and beta for the Beta prior\n",
        "alpha_values <- c(0.5, 1, 2, 5, 10)\n",
        "beta_values <- c(0.5, 1, 2, 5, 10)\n",
        "\n",
        "# Initialize lists to store results\n",
        "results <- list()\n",
        "\n",
        "# Compute posterior for each combination of alpha and beta\n",
        "for (alpha in alpha_values) {\n",
        "  for (beta in beta_values) {\n",
        "    # Compute posterior parameters and quantities\n",
        "    result <- compute_beta_posterior(alpha, beta, x, n)\n",
        "    # Store results\n",
        "    results[[paste(\"alpha\", alpha, \"beta\", beta)]] <- result\n",
        "  }\n",
        "}\n",
        "\n",
        "# Print results\n",
        "for (key in names(results)) {\n",
        "  alpha_beta <- unlist(strsplit(key, \" \"))\n",
        "  alpha <- alpha_beta[2]\n",
        "  beta <- alpha_beta[4]\n",
        "  cat(\"Alpha:\", alpha, \"- Beta:\", beta, \"\\n\")\n",
        "  cat(\"Posterior parameters (alpha_post, beta_post):\", results[[key]]$alpha_post, \",\", results[[key]]$beta_post, \"\\n\")\n",
        "  cat(\"95% Credible Interval:\", results[[key]]$credible_interval, \"\\n\")\n",
        "  cat(\"MAP Estimator:\", results[[key]]$map_estimator, \"\\n\")\n",
        "  cat(\"Posterior Expectation Estimator:\", results[[key]]$posterior_expectation, \"\\n\")\n",
        "  cat(\"\\n\")\n",
        "}\n",
        "\n"
      ]
    },
    {
      "cell_type": "code",
      "execution_count": 4,
      "id": "4b95c452",
      "metadata": {
        "vscode": {
          "languageId": "r"
        },
        "colab": {
          "base_uri": "https://localhost:8080/",
          "height": 437
        },
        "id": "4b95c452",
        "outputId": "f92de920-a048-4436-f01c-6a84dc4d2f5e"
      },
      "outputs": [
        {
          "output_type": "display_data",
          "data": {
            "text/plain": [
              "Plot with title “Male-to-female sex ratio”"
            ],
            "image/png": "[encoded data removed]"
          },
          "metadata": {
            "image/png": {
              "width": 420,
              "height": 420
            }
          }
        }
      ],
      "source": [
        "# Plot histograms of the posterior distributions\n",
        "par(mfrow = c(1, 3), mar = c(5, 4, 2, 1))\n",
        "\n",
        "# (a) Posterior distribution of θ\n",
        "theta_samples <- rbeta(10000, results[[\"alpha 5 beta 5\"]]$alpha_post, results[[\"alpha 5 beta 5\"]]$beta_post)\n",
        "hist(theta_samples, main = \"Posterior distribution of theta\", xlab = \"theta\", col = \"lightblue\", border = \"white\")\n",
        "\n",
        "# (b) Logit transform of θ\n",
        "logit_theta_samples <- log(theta_samples / (1 - theta_samples))\n",
        "hist(logit_theta_samples, main = \"Logit transform of theta\", xlab = \"logit(theta)\", col = \"lightblue\", border = \"white\")\n",
        "\n",
        "# (c) Male-to-female sex ratio φ = (1 − θ)/θ (f)\n",
        "sex_ratio_samples <- (1 - theta_samples) / theta_samples\n",
        "hist(sex_ratio_samples, main = \"Male-to-female sex ratio\", xlab = \"f\", col = \"lightblue\", border = \"white\")"
      ]
    },
    {
      "cell_type": "code",
      "execution_count": 5,
      "id": "cab5ccde",
      "metadata": {
        "vscode": {
          "languageId": "r"
        },
        "colab": {
          "base_uri": "https://localhost:8080/"
        },
        "id": "cab5ccde",
        "outputId": "2595098f-bcbb-46ac-8ef0-859d4f3b9c06"
      },
      "outputs": [
        {
          "output_type": "stream",
          "name": "stdout",
          "text": [
            "  α/α+β α+β Posterior_Median Posterior_95CI_Lower Posterior_95CI_Upper\n",
            "1 0.485   2            0.446                0.415                0.477\n",
            "2 0.485   5            0.446                0.415                0.477\n",
            "3 0.485  10            0.446                0.415                0.477\n",
            "4 0.485  20            0.447                0.416                0.478\n",
            "5 0.485 100            0.449                0.420                0.479\n",
            "6 0.485 200            0.452                0.424                0.481\n"
          ]
        }
      ],
      "source": [
        "# Initialize a dataframe to store the results\n",
        "table_data <- data.frame(\n",
        "  Prior_Probability = numeric(),\n",
        "  Prior_Sum = numeric(),\n",
        "  Posterior_Median = numeric(),\n",
        "  Posterior_95CI_Lower = numeric(),\n",
        "  Posterior_95CI_Upper = numeric(),\n",
        "  stringsAsFactors = FALSE\n",
        ")\n",
        "\n",
        "# Define the prior alpha and beta values\n",
        "prior_expt <- 0.485 # alpha/(alpha + beta)\n",
        "prior_sum_values <- c(2, 5, 10, 20, 100, 200) # alpha + beta\n",
        "\n",
        "\n",
        "\n",
        "# Compute the posterior for each combination of prior alpha and beta\n",
        "for (prior_sum in prior_sum_values) {\n",
        "\n",
        "  prior_alpha <- prior_expt * prior_sum\n",
        "  prior_beta <- prior_sum - prior_alpha\n",
        "\n",
        "\n",
        "  # Compute posterior parameters and quantities\n",
        "  posterior_result <- compute_beta_posterior(prior_alpha, prior_beta, x, n)\n",
        "\n",
        "  # Round posterior summaries to three significant figures\n",
        "  posterior_median <- signif(posterior_result$map_estimator, digits = 3)\n",
        "  posterior_lower <- signif(posterior_result$credible_interval[1], digits = 3)\n",
        "  posterior_upper <- signif(posterior_result$credible_interval[2], digits = 3)\n",
        "\n",
        "  # Store the results in the dataframe\n",
        "  table_data <- rbind(table_data, c(prior_expt, prior_sum,\n",
        "                                    posterior_median,\n",
        "                                    posterior_lower, posterior_upper))\n",
        "}\n",
        "\n",
        "# Rename the columns\n",
        "colnames(table_data) <- c(\"α/α+β\", \"α+β\",\n",
        "                          \"Posterior_Median\", \"Posterior_95CI_Lower\", \"Posterior_95CI_Upper\")\n",
        "\n",
        "# Print the table\n",
        "print(table_data)\n"
      ]
    },
    {
      "cell_type": "markdown",
      "id": "b7a01c8c",
      "metadata": {
        "id": "b7a01c8c"
      },
      "source": [
        "Here we define the `h()`:\n",
        "$$\n",
        "    h(t)=\\left\\{\n",
        "    \\begin{array}{lcl}\n",
        "         a,        &\\text{ for }  &0<t<m-c \\quad\\text{and } m+c<t<1,\\\\\n",
        "         A+b\\cdot t/c,  &\\text{ for }  &t\\in [m-c,c],\\\\\n",
        "         B-b\\cdot t/c   &\\text{ for }  &t\\in [c,m+c],\\\\\n",
        "    \\end{array}\n",
        "    \\right.\\mskip80mu t \\in[0,1]\n",
        "$$\n",
        "\n",
        "where $a=0.50$, $b=5.00$ is the height of the central triangle ($a+b$ is the peak ordinate), $A=a+b-(b\\cdot m)/c$,\n",
        "$B<-a+b+(b\\cdot m)/c$."
      ]
    },
    {
      "cell_type": "code",
      "execution_count": 6,
      "id": "54b730bc",
      "metadata": {
        "vscode": {
          "languageId": "r"
        },
        "id": "54b730bc"
      },
      "outputs": [],
      "source": [
        "m<-0.485\n",
        "c<-0.100\n",
        "p.tails<-0.4\n",
        "a<-0.5\n",
        "b<-5.0\n",
        "A<-a+b-(b*m)/c\n",
        "B<-a+b+(b*m)/c\n",
        "h<-function(t){return(a*(t>=0)*(t<m-c)+a*(t>m+c)*(t<=1)+(A+b*t/c)*(t>m-c)*(t<m)+(B-b*t/c)*(t>m)*(t<m+c))}"
      ]
    },
    {
      "cell_type": "code",
      "execution_count": 7,
      "id": "0fcc512a",
      "metadata": {
        "vscode": {
          "languageId": "r"
        },
        "colab": {
          "base_uri": "https://localhost:8080/"
        },
        "id": "0fcc512a",
        "outputId": "e8b010df-4c38-4183-df28-200741b9099a"
      },
      "outputs": [
        {
          "output_type": "stream",
          "name": "stdout",
          "text": [
            "[1] 1.000001\n",
            "[1] \"Expectation: 0.492499873385333\"\n",
            "[1] \"Variance: 0.0425577079797754\"\n"
          ]
        }
      ],
      "source": [
        "integral <- integrate(h, lower = 0, upper = 1)$value\n",
        "print(integral)  # Should be approximately 1\n",
        "\n",
        "# Compute expectation and variance\n",
        "expectation <- integrate(function(t) t * h(t), lower = 0, upper = 1)$value\n",
        "variance <- integrate(function(t) (t - expectation)^2 * h(t), lower = 0, upper = 1)$value\n",
        "\n",
        "print(paste(\"Expectation:\", expectation))\n",
        "print(paste(\"Variance:\", variance))"
      ]
    },
    {
      "cell_type": "markdown",
      "id": "9196f571",
      "metadata": {
        "id": "9196f571"
      },
      "source": [
        "The expectation of piecewise linear nonconjugate prior is 0.492499873385333 and the variance 0.0425577079797754. So, we will now solve the equation problem to find the values $\\alpha_0$ and $\\beta_0$ such that $\\textrm{Beta}(\\alpha_0,\\beta_0)$ has the same expectation and variance than the piecewise linear nonconjugate prior. We will use the following equations:\n",
        "\n",
        "$$ \\text{E(U)} = \\frac{a}{a + b} $$\n",
        "$$ \\text{var(U)} = \\frac{ab}{(a + b)^2(a + b + 1)} $$\n",
        "\n"
      ]
    },
    {
      "cell_type": "code",
      "execution_count": 8,
      "id": "9b673a6f",
      "metadata": {
        "vscode": {
          "languageId": "r"
        },
        "colab": {
          "base_uri": "https://localhost:8080/"
        },
        "id": "9b673a6f",
        "outputId": "af8357d5-efba-4096-b28e-6c9961832e03"
      },
      "outputs": [
        {
          "output_type": "stream",
          "name": "stdout",
          "text": [
            "Solution:\n",
            "a: 2.399999 \n",
            "b: 2.473097 \n"
          ]
        }
      ],
      "source": [
        "# Define the equations for expected value and variance\n",
        "equations <- function(ab, exp, var) {\n",
        "  a <- ab[1]\n",
        "  b <- ab[2]\n",
        "  e <- a / (a + b) - exp\n",
        "  v <- a * b / ((a + b)^2 * (a + b + 1)) - var\n",
        "  return(e^2 + v^2)  # We optimize the sum of squares to find the root\n",
        "}\n",
        "\n",
        "# Given values\n",
        "exp_value <- expectation\n",
        "var_value <- variance\n",
        "\n",
        "# Perform optimization\n",
        "result <- optim(c(0.1, 100), equations, exp = exp_value, var = var_value, method = \"L-BFGS-B\", lower = c(0.01, 0.01), upper = c(100, 100))\n",
        "\n",
        "# Extract the solution\n",
        "a_solution <- result$par[1]\n",
        "b_solution <- result$par[2]\n",
        "\n",
        "# Print the solution\n",
        "cat(\"Solution:\\n\")\n",
        "cat(\"a:\", a_solution, \"\\n\")\n",
        "cat(\"b:\", b_solution, \"\\n\")\n"
      ]
    },
    {
      "cell_type": "markdown",
      "id": "ffea5c1e",
      "metadata": {
        "id": "ffea5c1e"
      },
      "source": [
        "So, we have that $\\alpha_0 = 2.399999$ and $\\beta_0 = 2.473097$ and $\\textrm{Beta}(2.399999,2.473097)$"
      ]
    },
    {
      "cell_type": "markdown",
      "id": "09ee3695",
      "metadata": {
        "id": "09ee3695"
      },
      "source": [
        "We will now show the histograms (Figure 2.3) and the table (Table 2.1) as before."
      ]
    },
    {
      "cell_type": "code",
      "execution_count": 9,
      "id": "2a3b1a00",
      "metadata": {
        "vscode": {
          "languageId": "r"
        },
        "colab": {
          "base_uri": "https://localhost:8080/",
          "height": 437
        },
        "id": "2a3b1a00",
        "outputId": "9d74ea40-ed72-44bb-dd25-40c763bcb860"
      },
      "outputs": [
        {
          "output_type": "display_data",
          "data": {
            "text/plain": [
              "Plot with title “Male-to-female sex ratio”"
            ],
            "image/png": "[encoded data removed]"
          },
          "metadata": {
            "image/png": {
              "width": 420,
              "height": 420
            }
          }
        }
      ],
      "source": [
        "# Plot histograms of the posterior distributions\n",
        "par(mfrow = c(1, 3), mar = c(5, 4, 2, 1))\n",
        "\n",
        "# (a) Posterior distribution of θ\n",
        "theta_samples <- rbeta(10000, a_solution, b_solution)\n",
        "hist(theta_samples, main = \"Posterior distribution of theta\", xlab = \"theta\", col = \"lightgreen\", border = \"white\")\n",
        "\n",
        "# (b) Logit transform of θ\n",
        "logit_theta_samples <- log(theta_samples / (1 - theta_samples))\n",
        "hist(logit_theta_samples, main = \"Logit transform of theta\", xlab = \"logit(theta)\", col = \"lightgreen\", border = \"white\")\n",
        "\n",
        "# (c) Male-to-female sex ratio φ = (1 − θ)/θ (f)\n",
        "sex_ratio_samples <- (1 - theta_samples) / theta_samples\n",
        "hist(sex_ratio_samples, main = \"Male-to-female sex ratio\", xlab = \"f\", col = \"lightgreen\", border = \"white\")"
      ]
    },
    {
      "cell_type": "code",
      "execution_count": 11,
      "id": "9d9832ea",
      "metadata": {
        "vscode": {
          "languageId": "r"
        },
        "colab": {
          "base_uri": "https://localhost:8080/"
        },
        "id": "9d9832ea",
        "outputId": "7c79252a-97f9-4d23-ff3b-f591a434f538"
      },
      "outputs": [
        {
          "output_type": "stream",
          "name": "stdout",
          "text": [
            "      α/α+β      α+β Posterior_Median Posterior_95CI_Lower Posterior_95CI_Upper\n",
            "1 0.4924999 4.873096            0.446                0.415                0.477\n"
          ]
        }
      ],
      "source": [
        "# Initialize a dataframe to store the results\n",
        "table_data <- data.frame(\n",
        "  Prior_Probability = numeric(),\n",
        "  Prior_Sum = numeric(),\n",
        "  Posterior_Median = numeric(),\n",
        "  Posterior_95CI_Lower = numeric(),\n",
        "  Posterior_95CI_Upper = numeric(),\n",
        "  stringsAsFactors = FALSE\n",
        ")\n",
        "\n",
        "# Compute posterior parameters and quantities\n",
        "posterior_result <- compute_beta_posterior(a_solution, b_solution, x, n)\n",
        "prior_expt <- a_solution/(a_solution + b_solution)\n",
        "prior_sum <- a_solution + b_solution\n",
        "\n",
        "\n",
        "# Round posterior summaries to three significant figures\n",
        "posterior_median <- signif(posterior_result$map_estimator, digits = 3)\n",
        "posterior_lower <- signif(posterior_result$credible_interval[1], digits = 3)\n",
        "posterior_upper <- signif(posterior_result$credible_interval[2], digits = 3)\n",
        "\n",
        "# Store the results in the vector\n",
        "vector_data <- rbind(table_data, c(prior_expt, prior_sum,\n",
        "                                    posterior_median,\n",
        "                                    posterior_lower, posterior_upper))\n",
        "\n",
        "\n",
        "# Rename the columns\n",
        "colnames(vector_data) <- c(\"α/α+β\", \"α+β\",\n",
        "                          \"Posterior_Median\", \"Posterior_95CI_Lower\", \"Posterior_95CI_Upper\")\n",
        "\n",
        "# Print the table\n",
        "print(vector_data)"
      ]
    },
    {
      "cell_type": "markdown",
      "id": "000f4752",
      "metadata": {
        "id": "000f4752"
      },
      "source": [
        "### Exercise 1.2"
      ]
    },
    {
      "cell_type": "code",
      "execution_count": null,
      "id": "efbeb533",
      "metadata": {
        "vscode": {
          "languageId": "r"
        },
        "id": "efbeb533",
        "outputId": "c713d4fc-adbe-41bc-d2d3-783fbd7a39aa"
      },
      "outputs": [
        {
          "data": {
            "image/png": "[encoded data removed]",
            "text/plain": [
              "Plot with title \"Empirical pmf (Inverse Transformation Method)\""
            ]
          },
          "metadata": {},
          "output_type": "display_data"
        },
        {
          "name": "stdout",
          "output_type": "stream",
          "text": [
            "Inverse Transformation Method:\n",
            "Median: 0.9999516 \n",
            "Mode: 0.9999516 \n",
            "Expectation: 0.6528113 \n",
            "Standard Deviation: 0.3500686 \n",
            "\n",
            "Discretization Method:\n",
            "Median: 0.4864865 \n",
            "Mode: 0.4764765 \n",
            "Expectation: 0.4901191 \n",
            "Standard Deviation: 0.2057657 \n"
          ]
        },
        {
          "data": {
            "image/png": "[encoded data removed]",
            "text/plain": [
              "Plot with title \"Empirical pmf (Discretization Method)\""
            ]
          },
          "metadata": {},
          "output_type": "display_data"
        }
      ],
      "source": [
        "# set parameters for the nonconjugate piecewise linear prior\n",
        "m <- 0.485\n",
        "c <- 0.100\n",
        "a <- 0.5\n",
        "b <- 5.0\n",
        "N <- 1000 # number of grid intervals\n",
        "t <- seq(0, 1, length = N)\n",
        "t <- t[-N] # remove last point (equal to 1: we want N intervals)\n",
        "\n",
        "# define the piecewise linear prior function\n",
        "h <- function(t) {\n",
        "  A <- a + b - (b * m) / c\n",
        "  B <- a + b + (b * m) / c\n",
        "  return(a * (t >= 0) * (t < m - c) + a * (t > m + c) * (t <= 1) +\n",
        "           (A + b * t / c) * (t >= m - c) * (t < m) +\n",
        "           (B - b * t / c) * (t > m) * (t <= m + c))\n",
        "}\n",
        "\n",
        "# sample from h using inverse transformation method\n",
        "sample_from_h_inverse <- function(n_samples) {\n",
        "  u <- runif(n_samples) # generate uniform random numbers\n",
        "  t_samples <- numeric(length(u))\n",
        "  for (i in 1:length(u)) {\n",
        "    # find the interval where the root lies\n",
        "    interval <- c(0, 1)\n",
        "    if (h(0) - u[i] < 0) {\n",
        "      interval <- c(0, m)\n",
        "    } else {\n",
        "      interval <- c(m, 1)\n",
        "    }\n",
        "    # use optimize to find the root within the interval\n",
        "    t_samples[i] <- optimize(function(t) abs(h(t) - u[i]), interval = interval)$minimum\n",
        "  }\n",
        "  return(t_samples)\n",
        "}\n",
        "\n",
        "# sample from the discretization of h\n",
        "sample_from_h_discretization <- function(n_samples) {\n",
        "  pmf <- h(t) / sum(h(t)) # normalize the pdf to obtain pmf\n",
        "  t_samples <- sample(t, size = n_samples, replace = TRUE, prob = pmf)\n",
        "  return(t_samples)\n",
        "}\n",
        "\n",
        "# function to compute empirical pmf\n",
        "compute_empirical_pmf <- function(samples) {\n",
        "  unique_samples <- sort(unique(samples))\n",
        "  pmf <- numeric(length(unique_samples))\n",
        "  for (i in 1:length(unique_samples)) {\n",
        "    pmf[i] <- sum(samples == unique_samples[i]) / length(samples)\n",
        "  }\n",
        "  return(list(samples = unique_samples, pmf = pmf))\n",
        "}\n",
        "\n",
        "# simulate samples and compute empirical pmfs\n",
        "n_samples <- 10000\n",
        "samples_inverse <- sample_from_h_inverse(n_samples)\n",
        "samples_discretization <- sample_from_h_discretization(n_samples)\n",
        "\n",
        "empirical_pmf_inverse <- compute_empirical_pmf(samples_inverse)\n",
        "empirical_pmf_discretization <- compute_empirical_pmf(samples_discretization)\n",
        "\n",
        "# plot empirical pmfs\n",
        "plot(empirical_pmf_inverse$samples, empirical_pmf_inverse$pmf, type = \"h\", lwd = 2.5,\n",
        "     col = \"blue\", xlab = \"t\", ylab = \"Probability\", main = \"Empirical pmf (Inverse Transformation Method)\")\n",
        "plot(empirical_pmf_discretization$samples, empirical_pmf_discretization$pmf, type = \"h\", lwd = 2.5,\n",
        "     col = \"blue\", xlab = \"t\", ylab = \"Probability\", main = \"Empirical pmf (Discretization Method)\")\n",
        "\n",
        "# compute statistics\n",
        "median_inverse <- median(samples_inverse)\n",
        "mode_inverse <- empirical_pmf_inverse$samples[which.max(empirical_pmf_inverse$pmf)]\n",
        "expectation_inverse <- sum(empirical_pmf_inverse$samples * empirical_pmf_inverse$pmf)\n",
        "std_dev_inverse <- sqrt(sum((empirical_pmf_inverse$samples - expectation_inverse)^2 * empirical_pmf_inverse$pmf))\n",
        "\n",
        "median_discretization <- median(samples_discretization)\n",
        "mode_discretization <- empirical_pmf_discretization$samples[which.max(empirical_pmf_discretization$pmf)]\n",
        "expectation_discretization <- sum(empirical_pmf_discretization$samples * empirical_pmf_discretization$pmf)\n",
        "std_dev_discretization <- sqrt(sum((empirical_pmf_discretization$samples - expectation_discretization)^2 * empirical_pmf_discretization$pmf))\n",
        "\n",
        "# print statistics\n",
        "cat(\"Inverse Transformation Method:\\n\")\n",
        "cat(\"Median:\", median_inverse, \"\\n\")\n",
        "cat(\"Mode:\", mode_inverse, \"\\n\")\n",
        "cat(\"Expectation:\", expectation_inverse, \"\\n\")\n",
        "cat(\"Standard Deviation:\", std_dev_inverse, \"\\n\\n\")\n",
        "\n",
        "cat(\"Discretization Method:\\n\")\n",
        "cat(\"Median:\", median_discretization, \"\\n\")\n",
        "cat(\"Mode:\", mode_discretization, \"\\n\")\n",
        "cat(\"Expectation:\", expectation_discretization, \"\\n\")\n",
        "cat(\"Standard Deviation:\", std_dev_discretization, \"\\n\")"
      ]
    },
    {
      "cell_type": "markdown",
      "id": "f1ffd5d7",
      "metadata": {
        "id": "f1ffd5d7"
      },
      "source": [
        "### Exercise 1.3"
      ]
    },
    {
      "cell_type": "code",
      "execution_count": null,
      "id": "5f7d27ef",
      "metadata": {
        "vscode": {
          "languageId": "r"
        },
        "id": "5f7d27ef",
        "outputId": "ee9f92ac-0694-4a74-bc40-f6992a85c992"
      },
      "outputs": [
        {
          "name": "stdout",
          "output_type": "stream",
          "text": [
            "Posterior Predictive pmf (Discretization Method):\n",
            "Median: 0.7067067 \n",
            "Mode: 0.986987 \n",
            "Expectation: 0.6661626 \n",
            "Standard Deviation: 0.2359237 \n"
          ]
        },
        {
          "data": {
            "image/png": "[encoded data removed]",
            "text/plain": [
              "Plot with title \"Empirical pmf (Posterior Discretization Method)\""
            ]
          },
          "metadata": {},
          "output_type": "display_data"
        }
      ],
      "source": [
        "# define the Likelihood and LogLikelihood functions\n",
        "Lik <- function(x, theta, n) {\n",
        "  theta^x * (1 - theta)^(n - x)\n",
        "}\n",
        "\n",
        "LogLik <- function(x, theta, n) {\n",
        "  x * log(theta) + (n - x) * log(1 - theta)\n",
        "}\n",
        "\n",
        "# define the observed data\n",
        "n <- 980\n",
        "x <- 437\n",
        "\n",
        "# compute the posterior\n",
        "theta_posterior <- t / sum(t) # normalized posterior\n",
        "\n",
        "# sample from the discretization of the posterior pdf\n",
        "sample_from_posterior_discretization <- function(n_samples, theta_posterior, t) {\n",
        "  t_samples <- sample(t, size = n_samples, replace = TRUE, prob = theta_posterior)\n",
        "  return(t_samples)\n",
        "}\n",
        "\n",
        "# simulate samples and compute empirical pmf\n",
        "n_samples <- 10000\n",
        "samples_posterior_discretization <- sample_from_posterior_discretization(n_samples, theta_posterior, t)\n",
        "empirical_pmf_posterior_discretization <- compute_empirical_pmf(samples_posterior_discretization)\n",
        "\n",
        "# plot empirical pmf\n",
        "plot(empirical_pmf_posterior_discretization$samples, empirical_pmf_posterior_discretization$pmf, type = \"h\", lwd = 2.5,\n",
        "     col = \"blue\", xlab = \"t\", ylab = \"Probability\", main = \"Empirical pmf (Posterior Discretization Method)\")\n",
        "\n",
        "# compute statistics\n",
        "median_posterior_discretization <- median(samples_posterior_discretization)\n",
        "mode_posterior_discretization <- empirical_pmf_posterior_discretization$samples[which.max(empirical_pmf_posterior_discretization$pmf)]\n",
        "expectation_posterior_discretization <- sum(empirical_pmf_posterior_discretization$samples * empirical_pmf_posterior_discretization$pmf)\n",
        "std_dev_posterior_discretization <- sqrt(sum((empirical_pmf_posterior_discretization$samples - expectation_posterior_discretization)^2 * empirical_pmf_posterior_discretization$pmf))\n",
        "\n",
        "# print statistics\n",
        "cat(\"Posterior Predictive pmf (Discretization Method):\\n\")\n",
        "cat(\"Median:\", median_posterior_discretization, \"\\n\")\n",
        "cat(\"Mode:\", mode_posterior_discretization, \"\\n\")\n",
        "cat(\"Expectation:\", expectation_posterior_discretization, \"\\n\")\n",
        "cat(\"Standard Deviation:\", std_dev_posterior_discretization, \"\\n\")"
      ]
    },
    {
      "cell_type": "markdown",
      "id": "9c34f71a",
      "metadata": {
        "id": "9c34f71a"
      },
      "source": [
        "## Exercise 2: Asthma mortality\n",
        "\n",
        "This exercise pertains to `Poisson.01.pub.ipynb` (lecture 7). Review this notebook as well as the notes concerning the Poisson model and do the following:\n",
        "\n",
        " 1. Generate a sample from the prior predictive distribution.\n",
        "\n",
        " 2. Generate a sample from the posterior predictive distribution after the first experiment (with $y=3$ after one year in a population of 200,000).\n",
        "\n",
        "In both cases plot the simulated pmf and compare it with the theoretical one and estimate the probability of having more than 25 fatalities in the next 10 years (assuming all other conditions remain constant)."
      ]
    },
    {
      "cell_type": "code",
      "execution_count": null,
      "id": "dd4211d2",
      "metadata": {
        "vscode": {
          "languageId": "r"
        },
        "id": "dd4211d2",
        "outputId": "b8337a41-0990-4e02-f916-9473aa97abae"
      },
      "outputs": [
        {
          "name": "stdout",
          "output_type": "stream",
          "text": [
            "Theoretical mean of prior predictive distribution: 0.6 \n",
            "Theoretical variance of prior predictive distribution: 0.12 \n"
          ]
        },
        {
          "data": {
            "image/png": "[encoded data removed]",
            "text/plain": [
              "Plot with title \"Prior Predictive Distribution\""
            ]
          },
          "metadata": {},
          "output_type": "display_data"
        }
      ],
      "source": [
        "# set the parameters for the prior distribution\n",
        "alpha <- 3\n",
        "beta <- 5\n",
        "N<-10000\n",
        "\n",
        "# Generate a sample from the prior predictive distribution\n",
        "prior_predictive_sample <- rgamma(N, alpha, beta)\n",
        "\n",
        "# Plot the histogram of the prior predictive sample\n",
        "hist(prior_predictive_sample, col=\"lightblue\", freq=FALSE,\n",
        "     main=\"Prior Predictive Distribution\",\n",
        "     xlab=expression(theta), ylab=\"Density\")\n",
        "\n",
        "# Plot the theoretical prior predictive distribution\n",
        "curve(dgamma(x, shape = alpha, rate = beta),\n",
        "      add = TRUE, col = \"red\", lwd = 2, lty = 2)\n",
        "\n",
        "# Add legend\n",
        "legend(\"topright\", legend=c(\"Sampled Prior\", \"Theoretical Prior\"),\n",
        "       col=c(\"lightblue\", \"red\"), lwd=2, lty=c(1,2))\n",
        "\n",
        "# Calculate theoretical mean and variance\n",
        "theoretical_mean <- alpha / beta\n",
        "theoretical_variance <- alpha / beta^2\n",
        "\n",
        "# Display theoretical mean and variance\n",
        "cat(\"Theoretical mean of prior predictive distribution:\", theoretical_mean, \"\\n\")\n",
        "cat(\"Theoretical variance of prior predictive distribution:\", theoretical_variance, \"\\n\")"
      ]
    },
    {
      "cell_type": "code",
      "execution_count": null,
      "id": "587e01eb",
      "metadata": {
        "vscode": {
          "languageId": "r"
        },
        "id": "587e01eb",
        "outputId": "a573f14e-661c-4316-f80a-91527a8b1d01"
      },
      "outputs": [
        {
          "name": "stdout",
          "output_type": "stream",
          "text": [
            "Probability of more than 25 fatalities in the next 10 years (prior): 0 \n"
          ]
        }
      ],
      "source": [
        "# calculate the probability of more than 25 fatalities in the next 10 years for prior predictive distribution\n",
        "probability_more_than_25_prior <- sum(1 - pgamma(25, shape = alpha, rate = beta)^seq(10))\n",
        "cat(\"Probability of more than 25 fatalities in the next 10 years (prior):\", probability_more_than_25_prior, \"\\n\")"
      ]
    },
    {
      "cell_type": "code",
      "execution_count": null,
      "id": "381588fb",
      "metadata": {
        "vscode": {
          "languageId": "r"
        },
        "id": "381588fb",
        "outputId": "831bb828-1ab9-478a-cc93-d7c5a0bc5455"
      },
      "outputs": [
        {
          "name": "stdout",
          "output_type": "stream",
          "text": [
            "Theoretical mean of posterior predictive distribution: 2.999925e-05 \n",
            "Theoretical variance of posterior predictive distribution: 1.499925e-10 \n"
          ]
        },
        {
          "data": {
            "image/png": "[encoded data removed]",
            "text/plain": [
              "Plot with title \"Posterior Predictive Distribution\""
            ]
          },
          "metadata": {},
          "output_type": "display_data"
        }
      ],
      "source": [
        "# define the observed data\n",
        "y_observed <- 3\n",
        "population_size <- 200000\n",
        "\n",
        "# update alpha and beta based on the observed data\n",
        "alpha_posterior <- alpha + y_observed\n",
        "beta_posterior <- beta + population_size\n",
        "\n",
        "# generate a sample from the posterior distribution\n",
        "posterior_sample <- rgamma(N, alpha_posterior, beta_posterior)\n",
        "\n",
        "# plot the histogram of the posterior predictive sample\n",
        "hist(posterior_sample, col=\"lightgreen\", freq=FALSE,\n",
        "     main=\"Posterior Predictive Distribution\",\n",
        "     xlab=expression(theta), ylab=\"Density\")\n",
        "\n",
        "# plot the theoretical posterior predictive distribution\n",
        "curve(dgamma(x, shape = alpha_posterior, rate = beta_posterior),\n",
        "      add = TRUE, col = \"red\", lwd = 2, lty = 2)\n",
        "\n",
        "# add legend\n",
        "legend(\"topright\", legend=c(\"Sampled Posterior\", \"Theoretical Posterior\"),\n",
        "       col=c(\"lightgreen\", \"red\"), lwd=2, lty=c(1,2))\n",
        "\n",
        "# calculate theoretical mean and variance of posterior predictive distribution\n",
        "theoretical_mean_posterior <- alpha_posterior / beta_posterior\n",
        "theoretical_variance_posterior <- alpha_posterior / beta_posterior^2\n",
        "\n",
        "# display theoretical mean and variance\n",
        "cat(\"Theoretical mean of posterior predictive distribution:\", theoretical_mean_posterior, \"\\n\")\n",
        "cat(\"Theoretical variance of posterior predictive distribution:\", theoretical_variance_posterior, \"\\n\")\n"
      ]
    },
    {
      "cell_type": "code",
      "execution_count": null,
      "id": "b571c9d2",
      "metadata": {
        "vscode": {
          "languageId": "r"
        },
        "id": "b571c9d2",
        "outputId": "cc33446c-611a-41ed-864b-1b19d292d1c0"
      },
      "outputs": [
        {
          "name": "stdout",
          "output_type": "stream",
          "text": [
            "Probability of more than 25 fatalities in the next 10 years (posterior): 0 \n"
          ]
        }
      ],
      "source": [
        "# calculate the probability of more than 25 fatalities in the next 10 years for posterior predictive distribution\n",
        "probability_more_than_25_posterior <- sum(1 - pgamma(25, shape = alpha_posterior, rate = beta_posterior)^seq(10))\n",
        "cat(\"Probability of more than 25 fatalities in the next 10 years (posterior):\", probability_more_than_25_posterior, \"\\n\")"
      ]
    }
  ],
  "metadata": {
    "kernelspec": {
      "display_name": "R",
      "language": "R",
      "name": "ir"
    },
    "language_info": {
      "codemirror_mode": "r",
      "file_extension": ".r",
      "mimetype": "text/x-r-source",
      "name": "R",
      "pygments_lexer": "r",
      "version": "3.6.1"
    },
    "colab": {
      "provenance": []
    }
  },
  "nbformat": 4,
  "nbformat_minor": 5
}